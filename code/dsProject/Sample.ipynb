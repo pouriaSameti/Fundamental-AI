{
 "cells": [
  {
   "cell_type": "code",
   "execution_count": 5,
   "outputs": [],
   "source": [
    "# !pip install pyswip\n",
    "from pyswip import Prolog\n",
    "import pandas as pd\n",
    "import csv"
   ],
   "metadata": {
    "collapsed": false,
    "pycharm": {
     "name": "#%%\n"
    }
   }
  },
  {
   "cell_type": "code",
   "execution_count": 6,
   "outputs": [],
   "source": [
    "# Clear existing facts to avoid duplicates\n",
    "\n",
    "prolog = Prolog()\n",
    "prolog.retractall(\"my_destination(_)\")\n",
    "prolog.retractall(\"country(_,_)\")\n",
    "prolog.retractall(\"region(_,_)\")\n",
    "prolog.retractall(\"climate(_,_)\")\n",
    "prolog.retractall(\"budget(_,_)\")\n",
    "prolog.retractall(\"activity(_,_)\")\n",
    "prolog.retractall(\"demographics(_,_)\")\n",
    "prolog.retractall(\"duration(_,_)\")\n",
    "prolog.retractall(\"cuisine(_,_)\")\n",
    "prolog.retractall(\"history(_,_)\")\n",
    "prolog.retractall(\"natural_wonder(_,_)\")\n",
    "prolog.retractall(\"accommodation(_,_)\")\n",
    "prolog.retractall(\"language(_,_)\")\n"
   ],
   "metadata": {
    "collapsed": false,
    "pycharm": {
     "name": "#%%\n"
    }
   }
  },
  {
   "cell_type": "code",
   "execution_count": 7,
   "outputs": [],
   "source": [
    "# Read data from CSV and assert facts into Prolog\n",
    "with open('../../data/Destinations.csv', 'r') as csvfile:\n",
    "    reader = csv.DictReader(csvfile)\n",
    "\n",
    "    for row in reader:\n",
    "        destination = row['Destinations']\n",
    "\n",
    "        prolog.assertz(f\"my_destination('{destination}')\")\n",
    "        prolog.assertz(f\"country('{destination}', '{row['country']}')\")\n",
    "        prolog.assertz(f\"region('{destination}', '{row['region']}')\")\n",
    "        prolog.assertz(f\"climate('{destination}', '{row['Climate']}')\")\n",
    "        prolog.assertz(f\"budget('{destination}', '{row['Budget']}')\")\n",
    "        prolog.assertz(f\"activity('{destination}', '{row['Activity']}')\")\n",
    "        prolog.assertz(f\"demographics('{destination}', '{row['Demographics']}')\")\n",
    "        prolog.assertz(f\"duration('{destination}', '{row['Duration']}')\")\n",
    "        prolog.assertz(f\"cuisine('{destination}', '{row['Cuisine']}')\")\n",
    "        prolog.assertz(f\"history('{destination}', '{row['History']}')\")\n",
    "        prolog.assertz(f\"natural_wonder('{destination}', '{row['Natural Wonder']}')\")\n",
    "        prolog.assertz(f\"accommodation('{destination}', '{row['Accommodation']}')\")\n",
    "        prolog.assertz(f\"language('{destination}', '{row['Language']}')\")\n"
   ],
   "metadata": {
    "collapsed": false,
    "pycharm": {
     "name": "#%%\n"
    }
   }
  },
  {
   "cell_type": "code",
   "execution_count": 8,
   "outputs": [],
   "source": [
    "data = pd.read_csv('../../data/Destinations.csv')\n",
    "for country in set(data['country'].values):\n",
    "    prolog.assertz(f\"is_country('{country}')\")\n",
    "\n",
    "for region in set(data['region'].values):\n",
    "    prolog.assertz(f\"is_region('{region}')\")\n",
    "\n",
    "for climate in set(data['Climate'].values):\n",
    "    prolog.assertz(f\"is_climate('{climate}')\")\n",
    "\n",
    "for budget in set(data['Budget'].values):\n",
    "    prolog.assertz(f\"is_budget('{budget}')\")\n",
    "\n",
    "for activity in set(data['Activity'].values):\n",
    "    prolog.assertz(f\"is_activity('{activity}')\")\n",
    "\n",
    "for demographic in set(data['Demographics'].values):\n",
    "    prolog.assertz(f\"is_demographic('{demographic}')\")\n",
    "\n",
    "for duration in set(data['Duration'].values):\n",
    "    prolog.assertz(f\"is_duration('{duration}')\")\n",
    "\n",
    "for cuisine in set(data['Cuisine'].values):\n",
    "    prolog.assertz(f\"is_cuisine('{cuisine}')\")\n",
    "\n",
    "for history in set(data['History'].values):\n",
    "    prolog.assertz(f\"is_history('{history}')\")\n",
    "\n",
    "for natural_wonder in set(data['Natural Wonder'].values):\n",
    "    prolog.assertz(f\"is_natural_wonder('{natural_wonder}')\")\n",
    "\n",
    "for accommodation in set(data['Accommodation'].values):\n",
    "    prolog.assertz(f\"is_accommodation('{accommodation}')\")\n",
    "\n",
    "for language in set(data['Language'].values):\n",
    "    prolog.assertz(f\"is_language('{language}')\")\n"
   ],
   "metadata": {
    "collapsed": false,
    "pycharm": {
     "name": "#%%\n"
    }
   }
  },
  {
   "cell_type": "code",
   "execution_count": null,
   "outputs": [],
   "source": [],
   "metadata": {
    "collapsed": false,
    "pycharm": {
     "name": "#%%\n"
    }
   }
  }
 ],
 "metadata": {
  "kernelspec": {
   "display_name": "Python 3",
   "language": "python",
   "name": "python3"
  },
  "language_info": {
   "codemirror_mode": {
    "name": "ipython",
    "version": 2
   },
   "file_extension": ".py",
   "mimetype": "text/x-python",
   "name": "python",
   "nbconvert_exporter": "python",
   "pygments_lexer": "ipython2",
   "version": "2.7.6"
  }
 },
 "nbformat": 4,
 "nbformat_minor": 0
}