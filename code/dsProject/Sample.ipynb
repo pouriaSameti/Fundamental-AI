{
 "cells": [
  {
   "cell_type": "code",
   "execution_count": 1,
   "outputs": [],
   "source": [
    "# !pip install pyswip\n",
    "from pyswip import Prolog\n",
    "import pandas as pd\n",
    "import csv"
   ],
   "metadata": {
    "collapsed": false,
    "pycharm": {
     "name": "#%%\n"
    }
   }
  },
  {
   "cell_type": "code",
   "execution_count": 2,
   "outputs": [],
   "source": [
    "# Clear existing facts to avoid duplicates\n",
    "\n",
    "prolog = Prolog()\n",
    "prolog.retractall(\"my_destination(_)\")\n",
    "prolog.retractall(\"country(_,_)\")\n",
    "prolog.retractall(\"region(_,_)\")\n",
    "prolog.retractall(\"climate(_,_)\")\n",
    "prolog.retractall(\"budget(_,_)\")\n",
    "prolog.retractall(\"activity(_,_)\")\n",
    "prolog.retractall(\"demographics(_,_)\")\n",
    "prolog.retractall(\"duration(_,_)\")\n",
    "prolog.retractall(\"cuisine(_,_)\")\n",
    "prolog.retractall(\"history(_,_)\")\n",
    "prolog.retractall(\"natural_wonder(_,_)\")\n",
    "prolog.retractall(\"accommodation(_,_)\")\n",
    "prolog.retractall(\"language(_,_)\")\n"
   ],
   "metadata": {
    "collapsed": false,
    "pycharm": {
     "name": "#%%\n"
    }
   }
  },
  {
   "cell_type": "code",
   "execution_count": 3,
   "outputs": [
    {
     "name": "stdout",
     "output_type": "stream",
     "text": [
      "<_csv.reader object at 0x0000021186DB16A0>\n",
      "my_destination('Tokyo')\n",
      "my_destination('Ottawa')\n",
      "my_destination('Mexico City')\n",
      "my_destination('Rome')\n",
      "my_destination('Brasilia')\n",
      "my_destination('Canberra')\n",
      "my_destination('New Delhi')\n",
      "my_destination('Pretoria')\n",
      "my_destination('Madrid')\n",
      "my_destination('Moscow')\n",
      "my_destination('Berlin')\n",
      "my_destination('Bangkok')\n",
      "my_destination('Stockholm')\n",
      "my_destination('Cairo')\n",
      "my_destination('Wellington')\n",
      "my_destination('Ankara')\n",
      "my_destination('Buenos Aires')\n",
      "my_destination('Kathmandu')\n",
      "my_destination('Athens')\n",
      "my_destination('Nairobi')\n",
      "my_destination('Lisbon')\n",
      "my_destination('Oslo')\n",
      "my_destination('Jakarta')\n",
      "my_destination('Hanoi')\n",
      "my_destination('Dublin')\n",
      "my_destination('Beijing')\n",
      "my_destination('Paris')\n",
      "my_destination('Santiago')\n",
      "my_destination('Rabat')\n",
      "my_destination('Singapore')\n",
      "my_destination('Lima')\n",
      "my_destination('Helsinki')\n",
      "my_destination('Prague')\n",
      "my_destination('Manila')\n",
      "my_destination('Brussels')\n",
      "my_destination('Kuala Lumpur')\n",
      "my_destination('Amsterdam')\n",
      "my_destination('Washington D.C.')\n",
      "my_destination('London')\n",
      "my_destination('Seoul')\n",
      "my_destination('Bogota')\n",
      "my_destination('Warsaw')\n",
      "my_destination('Jerusalem')\n",
      "my_destination('Kyiv')\n",
      "my_destination('Vienna')\n",
      "my_destination('Copenhagen')\n",
      "my_destination('Dhaka')\n",
      "my_destination('Montevideo')\n",
      "my_destination('Bern')\n",
      "my_destination('Islamabad')\n",
      "my_destination('Budapest')\n",
      "my_destination('Zagreb')\n",
      "my_destination('Colombo')\n",
      "my_destination('Tehran')\n",
      "my_destination('Bratislava')\n",
      "my_destination('Cancun')\n",
      "my_destination('Venice')\n",
      "my_destination('Florence')\n",
      "my_destination('Milan')\n",
      "my_destination('Saint Petersburg')\n",
      "my_destination('Vladivostok')\n",
      "my_destination('New York City')\n",
      "my_destination('Los Angeles')\n",
      "my_destination('Chicago')\n",
      "my_destination('Miami')\n",
      "my_destination('Shiraz')\n",
      "my_destination('Isfahan')\n",
      "my_destination('Mashhad')\n",
      "my_destination('Tabriz')\n",
      "my_destination('Yazd')\n",
      "my_destination('Shanghai')\n",
      "my_destination('Guangzhou')\n",
      "my_destination('Chengdu')\n",
      "my_destination('Xian')\n",
      "my_destination('Bergen')\n",
      "my_destination('TromsÃ¸')\n",
      "my_destination('Marseille')\n",
      "my_destination('Lyon')\n",
      "my_destination('Sentosa')\n",
      "my_destination('Marina Bay')\n",
      "my_destination('Cusco')\n",
      "my_destination('Arequipa')\n",
      "my_destination('Busan')\n",
      "my_destination('Incheon')\n",
      "my_destination('Medellin')\n",
      "my_destination('Cali')\n",
      "my_destination('Lahore')\n",
      "my_destination('Karachi')\n",
      "my_destination('Zurich')\n",
      "my_destination('Geneva')\n",
      "my_destination('Izmir')\n",
      "my_destination('Antalya')\n",
      "my_destination('Bursa')\n",
      "my_destination('Munich')\n",
      "my_destination('Hamburg')\n",
      "my_destination('Frankfurt')\n",
      "my_destination('Alexandria')\n",
      "my_destination('Luxor')\n",
      "my_destination('Aswan')\n",
      "my_destination('Christchurch')\n",
      "my_destination('Queenstown')\n",
      "my_destination('Rotorua')\n"
     ]
    }
   ],
   "source": [
    "# Read data from CSV and assert facts into Prolog\n",
    "with open('../../data/Destinations.csv', 'r') as csvfile:\n",
    "    reader = csv.DictReader(csvfile)\n",
    "    print(reader.reader)\n",
    "    for row in reader:\n",
    "        destination = row['Destinations']\n",
    "\n",
    "        prolog.assertz(f\"my_destination('{destination}')\")\n",
    "        prolog.assertz(f\"country('{destination}', '{row['country']}')\")\n",
    "        prolog.assertz(f\"region('{destination}', '{row['region']}')\")\n",
    "        prolog.assertz(f\"climate('{destination}', '{row['Climate']}')\")\n",
    "        prolog.assertz(f\"budget('{destination}', '{row['Budget']}')\")\n",
    "        prolog.assertz(f\"activity('{destination}', '{row['Activity']}')\")\n",
    "        prolog.assertz(f\"demographics('{destination}', '{row['Demographics']}')\")\n",
    "        prolog.assertz(f\"duration('{destination}', '{row['Duration']}')\")\n",
    "        prolog.assertz(f\"cuisine('{destination}', '{row['Cuisine']}')\")\n",
    "        prolog.assertz(f\"history('{destination}', '{row['History']}')\")\n",
    "        prolog.assertz(f\"natural_wonder('{destination}', '{row['Natural Wonder']}')\")\n",
    "        prolog.assertz(f\"accommodation('{destination}', '{row['Accommodation']}')\")\n",
    "        prolog.assertz(f\"language('{destination}', '{row['Language']}')\")\n",
    "\n",
    "# list(prolog.query(\"my_destination(X)\"))"
   ],
   "metadata": {
    "collapsed": false,
    "pycharm": {
     "name": "#%%\n"
    }
   }
  },
  {
   "cell_type": "code",
   "execution_count": null,
   "outputs": [],
   "source": [],
   "metadata": {
    "collapsed": false,
    "pycharm": {
     "name": "#%%\n"
    }
   }
  }
 ],
 "metadata": {
  "kernelspec": {
   "display_name": "Python 3",
   "language": "python",
   "name": "python3"
  },
  "language_info": {
   "codemirror_mode": {
    "name": "ipython",
    "version": 2
   },
   "file_extension": ".py",
   "mimetype": "text/x-python",
   "name": "python",
   "nbconvert_exporter": "python",
   "pygments_lexer": "ipython2",
   "version": "2.7.6"
  }
 },
 "nbformat": 4,
 "nbformat_minor": 0
}