{
 "cells": [
  {
   "cell_type": "code",
   "execution_count": 63,
   "outputs": [],
   "source": [
    "# !pip install pyswip\n",
    "from pyswip import Prolog\n",
    "import pandas as pd\n",
    "import csv"
   ],
   "metadata": {
    "collapsed": false,
    "pycharm": {
     "name": "#%%\n"
    }
   }
  },
  {
   "cell_type": "code",
   "execution_count": 64,
   "outputs": [],
   "source": [
    "# Clear existing facts to avoid duplicates\n",
    "\n",
    "prolog = Prolog()\n",
    "prolog.retractall(\"my_destination(_)\")\n",
    "prolog.retractall(\"country(_,_)\")\n",
    "prolog.retractall(\"region(_,_)\")\n",
    "prolog.retractall(\"climate(_,_)\")\n",
    "prolog.retractall(\"budget(_,_)\")\n",
    "prolog.retractall(\"activity(_,_)\")\n",
    "prolog.retractall(\"demographic(_,_)\")\n",
    "prolog.retractall(\"duration(_,_)\")\n",
    "prolog.retractall(\"cuisine(_,_)\")\n",
    "prolog.retractall(\"history(_,_)\")\n",
    "prolog.retractall(\"natural_wonder(_,_)\")\n",
    "prolog.retractall(\"accommodation(_,_)\")\n",
    "prolog.retractall(\"language(_,_)\")\n",
    "prolog.retractall(\"is_country(_)\")\n",
    "prolog.retractall(\"is_region(_)\")\n",
    "prolog.retractall(\"is_climate(_)\")\n",
    "prolog.retractall(\"is_budget(_)\")\n",
    "prolog.retractall(\"is_activity(_)\")\n",
    "prolog.retractall(\"is_demographic(_)\")\n",
    "prolog.retractall(\"is_duration(_)\")\n",
    "prolog.retractall(\"is_cuisine(_)\")\n",
    "prolog.retractall(\"is_history(_)\")\n",
    "prolog.retractall(\"is_natural_wonder(_)\")\n",
    "prolog.retractall(\"is_accommodation(_)\")\n",
    "prolog.retractall(\"is_language(_)\")\n",
    "prolog.retractall(\"connected(_,_)\")\n",
    "\n",
    "\n"
   ],
   "metadata": {
    "collapsed": false,
    "pycharm": {
     "name": "#%%\n"
    }
   }
  },
  {
   "cell_type": "code",
   "execution_count": 65,
   "outputs": [],
   "source": [
    "# Read data from CSV and assert facts into Prolog\n",
    "with open('../../data/Destinations.csv', 'r') as csvfile:\n",
    "    reader = csv.DictReader(csvfile)\n",
    "\n",
    "    for row in reader:\n",
    "        destination = row['Destinations']\n",
    "\n",
    "        prolog.assertz(f\"my_destination('{destination}')\")\n",
    "        prolog.assertz(f\"country('{destination}', '{row['country']}')\")\n",
    "        prolog.assertz(f\"region('{destination}', '{row['region']}')\")\n",
    "        prolog.assertz(f\"climate('{destination}', '{row['Climate']}')\")\n",
    "        prolog.assertz(f\"budget('{destination}', '{row['Budget']}')\")\n",
    "        prolog.assertz(f\"activity('{destination}', '{row['Activity']}')\")\n",
    "        prolog.assertz(f\"demographic('{destination}', '{row['Demographics']}')\")\n",
    "        prolog.assertz(f\"duration('{destination}', '{row['Duration']}')\")\n",
    "        prolog.assertz(f\"cuisine('{destination}', '{row['Cuisine']}')\")\n",
    "        prolog.assertz(f\"history('{destination}', '{row['History']}')\")\n",
    "        prolog.assertz(f\"natural_wonder('{destination}', '{row['Natural Wonder']}')\")\n",
    "        prolog.assertz(f\"accommodation('{destination}', '{row['Accommodation']}')\")\n",
    "        prolog.assertz(f\"language('{destination}', '{row['Language']}')\")\n"
   ],
   "metadata": {
    "collapsed": false,
    "pycharm": {
     "name": "#%%\n"
    }
   }
  },
  {
   "cell_type": "code",
   "execution_count": 66,
   "outputs": [],
   "source": [
    "data = pd.read_csv('../../data/Destinations.csv')\n",
    "for country in set(data['country'].values):\n",
    "    prolog.assertz(f\"is_country('{country}')\")\n",
    "\n",
    "for region in set(data['region'].values):\n",
    "    prolog.assertz(f\"is_region('{region}')\")\n",
    "\n",
    "for climate in set(data['Climate'].values):\n",
    "    prolog.assertz(f\"is_climate('{climate}')\")\n",
    "\n",
    "for budget in set(data['Budget'].values):\n",
    "    prolog.assertz(f\"is_budget('{budget}')\")\n",
    "\n",
    "for activity in set(data['Activity'].values):\n",
    "    prolog.assertz(f\"is_activity('{activity}')\")\n",
    "\n",
    "for demographic in set(data['Demographics'].values):\n",
    "    prolog.assertz(f\"is_demographic('{demographic}')\")\n",
    "\n",
    "for duration in set(data['Duration'].values):\n",
    "    prolog.assertz(f\"is_duration('{duration}')\")\n",
    "\n",
    "for cuisine in set(data['Cuisine'].values):\n",
    "    prolog.assertz(f\"is_cuisine('{cuisine}')\")\n",
    "\n",
    "for history in set(data['History'].values):\n",
    "    prolog.assertz(f\"is_history('{history}')\")\n",
    "\n",
    "for natural_wonder in set(data['Natural Wonder'].values):\n",
    "    prolog.assertz(f\"is_natural_wonder('{natural_wonder}')\")\n",
    "\n",
    "for accommodation in set(data['Accommodation'].values):\n",
    "    prolog.assertz(f\"is_accommodation('{accommodation}')\")\n",
    "\n",
    "for language in set(data['Language'].values):\n",
    "    prolog.assertz(f\"is_language('{language}')\")\n"
   ],
   "metadata": {
    "collapsed": false,
    "pycharm": {
     "name": "#%%\n"
    }
   }
  },
  {
   "cell_type": "code",
   "execution_count": 67,
   "outputs": [
    {
     "data": {
      "text/plain": "     Destinations  Tokyo  Ottawa  Mexico City  Rome  Brasilia  Canberra  \\\n0           Tokyo      0       0            0     0         0         0   \n1          Ottawa      1       0            1     0         0         1   \n2     Mexico City      0       1            0     0         0         0   \n3            Rome      1       0            0     0         1         1   \n4        Brasilia      0       0            0     1         0         0   \n..            ...    ...     ...          ...   ...       ...       ...   \n97          Luxor      1       1            0     0         0         0   \n98          Aswan      1       0            1     0         0         0   \n99   Christchurch      1       0            0     1         0         0   \n100    Queenstown      0       0            1     0         0         0   \n101       Rotorua      0       0            0     0         0         1   \n\n     New Delhi  Pretoria  Madrid  ...  Bursa  Munich  Hamburg  Frankfurt  \\\n0            0         0       0  ...      0       0        0          1   \n1            0         0       1  ...      0       0        0          1   \n2            0         0       0  ...      1       0        0          0   \n3            1         0       0  ...      1       0        1          0   \n4            0         0       0  ...      0       0        0          0   \n..         ...       ...     ...  ...    ...     ...      ...        ...   \n97           0         0       1  ...      0       0        1          0   \n98           1         0       0  ...      0       0        0          0   \n99           0         0       0  ...      0       1        1          1   \n100          1         0       0  ...      0       0        0          0   \n101          0         0       1  ...      0       0        1          0   \n\n     Alexandria  Luxor  Aswan  Christchurch  Queenstown  Rotorua  \n0             1      0      0             0           0        1  \n1             0      0      0             0           0        0  \n2             0      0      0             0           1        0  \n3             0      0      0             0           1        0  \n4             0      1      0             0           1        0  \n..          ...    ...    ...           ...         ...      ...  \n97            0      1      0             0           1        0  \n98            0      0      1             0           0        0  \n99            0      0      0             0           1        1  \n100           0      1      1             0           0        0  \n101           0      0      0             0           0        1  \n\n[102 rows x 103 columns]",
      "text/html": "<div>\n<style scoped>\n    .dataframe tbody tr th:only-of-type {\n        vertical-align: middle;\n    }\n\n    .dataframe tbody tr th {\n        vertical-align: top;\n    }\n\n    .dataframe thead th {\n        text-align: right;\n    }\n</style>\n<table border=\"1\" class=\"dataframe\">\n  <thead>\n    <tr style=\"text-align: right;\">\n      <th></th>\n      <th>Destinations</th>\n      <th>Tokyo</th>\n      <th>Ottawa</th>\n      <th>Mexico City</th>\n      <th>Rome</th>\n      <th>Brasilia</th>\n      <th>Canberra</th>\n      <th>New Delhi</th>\n      <th>Pretoria</th>\n      <th>Madrid</th>\n      <th>...</th>\n      <th>Bursa</th>\n      <th>Munich</th>\n      <th>Hamburg</th>\n      <th>Frankfurt</th>\n      <th>Alexandria</th>\n      <th>Luxor</th>\n      <th>Aswan</th>\n      <th>Christchurch</th>\n      <th>Queenstown</th>\n      <th>Rotorua</th>\n    </tr>\n  </thead>\n  <tbody>\n    <tr>\n      <th>0</th>\n      <td>Tokyo</td>\n      <td>0</td>\n      <td>0</td>\n      <td>0</td>\n      <td>0</td>\n      <td>0</td>\n      <td>0</td>\n      <td>0</td>\n      <td>0</td>\n      <td>0</td>\n      <td>...</td>\n      <td>0</td>\n      <td>0</td>\n      <td>0</td>\n      <td>1</td>\n      <td>1</td>\n      <td>0</td>\n      <td>0</td>\n      <td>0</td>\n      <td>0</td>\n      <td>1</td>\n    </tr>\n    <tr>\n      <th>1</th>\n      <td>Ottawa</td>\n      <td>1</td>\n      <td>0</td>\n      <td>1</td>\n      <td>0</td>\n      <td>0</td>\n      <td>1</td>\n      <td>0</td>\n      <td>0</td>\n      <td>1</td>\n      <td>...</td>\n      <td>0</td>\n      <td>0</td>\n      <td>0</td>\n      <td>1</td>\n      <td>0</td>\n      <td>0</td>\n      <td>0</td>\n      <td>0</td>\n      <td>0</td>\n      <td>0</td>\n    </tr>\n    <tr>\n      <th>2</th>\n      <td>Mexico City</td>\n      <td>0</td>\n      <td>1</td>\n      <td>0</td>\n      <td>0</td>\n      <td>0</td>\n      <td>0</td>\n      <td>0</td>\n      <td>0</td>\n      <td>0</td>\n      <td>...</td>\n      <td>1</td>\n      <td>0</td>\n      <td>0</td>\n      <td>0</td>\n      <td>0</td>\n      <td>0</td>\n      <td>0</td>\n      <td>0</td>\n      <td>1</td>\n      <td>0</td>\n    </tr>\n    <tr>\n      <th>3</th>\n      <td>Rome</td>\n      <td>1</td>\n      <td>0</td>\n      <td>0</td>\n      <td>0</td>\n      <td>1</td>\n      <td>1</td>\n      <td>1</td>\n      <td>0</td>\n      <td>0</td>\n      <td>...</td>\n      <td>1</td>\n      <td>0</td>\n      <td>1</td>\n      <td>0</td>\n      <td>0</td>\n      <td>0</td>\n      <td>0</td>\n      <td>0</td>\n      <td>1</td>\n      <td>0</td>\n    </tr>\n    <tr>\n      <th>4</th>\n      <td>Brasilia</td>\n      <td>0</td>\n      <td>0</td>\n      <td>0</td>\n      <td>1</td>\n      <td>0</td>\n      <td>0</td>\n      <td>0</td>\n      <td>0</td>\n      <td>0</td>\n      <td>...</td>\n      <td>0</td>\n      <td>0</td>\n      <td>0</td>\n      <td>0</td>\n      <td>0</td>\n      <td>1</td>\n      <td>0</td>\n      <td>0</td>\n      <td>1</td>\n      <td>0</td>\n    </tr>\n    <tr>\n      <th>...</th>\n      <td>...</td>\n      <td>...</td>\n      <td>...</td>\n      <td>...</td>\n      <td>...</td>\n      <td>...</td>\n      <td>...</td>\n      <td>...</td>\n      <td>...</td>\n      <td>...</td>\n      <td>...</td>\n      <td>...</td>\n      <td>...</td>\n      <td>...</td>\n      <td>...</td>\n      <td>...</td>\n      <td>...</td>\n      <td>...</td>\n      <td>...</td>\n      <td>...</td>\n      <td>...</td>\n    </tr>\n    <tr>\n      <th>97</th>\n      <td>Luxor</td>\n      <td>1</td>\n      <td>1</td>\n      <td>0</td>\n      <td>0</td>\n      <td>0</td>\n      <td>0</td>\n      <td>0</td>\n      <td>0</td>\n      <td>1</td>\n      <td>...</td>\n      <td>0</td>\n      <td>0</td>\n      <td>1</td>\n      <td>0</td>\n      <td>0</td>\n      <td>1</td>\n      <td>0</td>\n      <td>0</td>\n      <td>1</td>\n      <td>0</td>\n    </tr>\n    <tr>\n      <th>98</th>\n      <td>Aswan</td>\n      <td>1</td>\n      <td>0</td>\n      <td>1</td>\n      <td>0</td>\n      <td>0</td>\n      <td>0</td>\n      <td>1</td>\n      <td>0</td>\n      <td>0</td>\n      <td>...</td>\n      <td>0</td>\n      <td>0</td>\n      <td>0</td>\n      <td>0</td>\n      <td>0</td>\n      <td>0</td>\n      <td>1</td>\n      <td>0</td>\n      <td>0</td>\n      <td>0</td>\n    </tr>\n    <tr>\n      <th>99</th>\n      <td>Christchurch</td>\n      <td>1</td>\n      <td>0</td>\n      <td>0</td>\n      <td>1</td>\n      <td>0</td>\n      <td>0</td>\n      <td>0</td>\n      <td>0</td>\n      <td>0</td>\n      <td>...</td>\n      <td>0</td>\n      <td>1</td>\n      <td>1</td>\n      <td>1</td>\n      <td>0</td>\n      <td>0</td>\n      <td>0</td>\n      <td>0</td>\n      <td>1</td>\n      <td>1</td>\n    </tr>\n    <tr>\n      <th>100</th>\n      <td>Queenstown</td>\n      <td>0</td>\n      <td>0</td>\n      <td>1</td>\n      <td>0</td>\n      <td>0</td>\n      <td>0</td>\n      <td>1</td>\n      <td>0</td>\n      <td>0</td>\n      <td>...</td>\n      <td>0</td>\n      <td>0</td>\n      <td>0</td>\n      <td>0</td>\n      <td>0</td>\n      <td>1</td>\n      <td>1</td>\n      <td>0</td>\n      <td>0</td>\n      <td>0</td>\n    </tr>\n    <tr>\n      <th>101</th>\n      <td>Rotorua</td>\n      <td>0</td>\n      <td>0</td>\n      <td>0</td>\n      <td>0</td>\n      <td>0</td>\n      <td>1</td>\n      <td>0</td>\n      <td>0</td>\n      <td>1</td>\n      <td>...</td>\n      <td>0</td>\n      <td>0</td>\n      <td>1</td>\n      <td>0</td>\n      <td>0</td>\n      <td>0</td>\n      <td>0</td>\n      <td>0</td>\n      <td>0</td>\n      <td>1</td>\n    </tr>\n  </tbody>\n</table>\n<p>102 rows × 103 columns</p>\n</div>"
     },
     "execution_count": 67,
     "metadata": {},
     "output_type": "execute_result"
    }
   ],
   "source": [
    "adj_matrix = pd.read_csv('..//..//data//Adjacency_matrix.csv')\n",
    "adj_matrix"
   ],
   "metadata": {
    "collapsed": false,
    "pycharm": {
     "name": "#%%\n"
    }
   }
  },
  {
   "cell_type": "code",
   "execution_count": 68,
   "outputs": [],
   "source": [
    "for origin_index in range(1, len(adj_matrix.columns)):\n",
    "    for col_index in range(len(adj_matrix.iloc[:, origin_index])):\n",
    "        if adj_matrix.iloc[col_index, origin_index] == 1 and adj_matrix.columns[origin_index] != adj_matrix.columns[col_index]:\n",
    "            prolog.assertz(f\"connected('{adj_matrix.columns[origin_index]}', '{adj_matrix.columns[col_index]}')\")\n",
    "            # print('origin: ', adj_matrix.columns[origin_index])\n",
    "            # print('destination: ', adj_matrix.columns[col_index])\n"
   ],
   "metadata": {
    "collapsed": false,
    "pycharm": {
     "name": "#%%\n"
    }
   }
  },
  {
   "cell_type": "code",
   "execution_count": 69,
   "outputs": [
    {
     "data": {
      "text/plain": "{'country': ['Japan', 'Iran'],\n 'region': [],\n 'climate': [],\n 'budget': [],\n 'activity': [],\n 'demographic': [],\n 'duration': ['Short'],\n 'cuisine': [],\n 'history': [],\n 'natural_wonder': [],\n 'accommodation': [],\n 'language': ['English']}"
     },
     "execution_count": 69,
     "metadata": {},
     "output_type": "execute_result"
    }
   ],
   "source": [
    "yarru_chi_gof = list(input().split())\n",
    "dict = {'country': [], 'region':[], 'climate':[], 'budget':[], 'activity': [], 'demographic': [],\n",
    "        'duration': [], 'cuisine': [], 'history': [], 'natural_wonder': [], 'accommodation': [],\n",
    "        'language': []}\n",
    "for chiz in yarru_chi_gof:\n",
    "    if list(prolog.query(f\"is_country('{chiz}')\")):\n",
    "        dict['country'].append(chiz)\n",
    "    if list(prolog.query(f\"is_region('{chiz}')\")):\n",
    "        dict['region'].append(chiz)\n",
    "    if list(prolog.query(f\"is_climate('{chiz}')\")):\n",
    "        dict['climate'].append(chiz)\n",
    "    if list(prolog.query(f\"is_budget('{chiz}')\")):\n",
    "        dict['budget'].append(chiz)\n",
    "    if list(prolog.query(f\"is_activity('{chiz}')\")):\n",
    "        dict['activity'].append(chiz)\n",
    "    if list(prolog.query(f\"is_demographic('{chiz}')\")):\n",
    "        dict['demographic'].append(chiz)\n",
    "    if list(prolog.query(f\"is_duration('{chiz}')\")):\n",
    "        dict['duration'].append(chiz)\n",
    "    if list(prolog.query(f\"is_cuisine('{chiz}')\")):\n",
    "        dict['cuisine'].append(chiz)\n",
    "    if list(prolog.query(f\"is_history('{chiz}')\")):\n",
    "        dict['history'].append(chiz)\n",
    "    if list(prolog.query(f\"is_natural_wonder('{chiz}')\")):\n",
    "        dict['natural_wonder'].append(chiz)\n",
    "    if list(prolog.query(f\"is_accommodation('{chiz}')\")):\n",
    "        dict['accommodation'].append(chiz)\n",
    "    if list(prolog.query(f\"is_language('{chiz}')\")):\n",
    "        dict['language'].append(chiz)\n",
    "\n",
    "dict"
   ],
   "metadata": {
    "collapsed": false,
    "pycharm": {
     "name": "#%%\n"
    }
   }
  },
  {
   "cell_type": "code",
   "execution_count": 70,
   "outputs": [
    {
     "name": "stdout",
     "output_type": "stream",
     "text": [
      "[{'X': 'Tokyo', 'Japan': 'Japan'}, {'X': 'Ottawa', 'Japan': 'Canada'}, {'X': 'Mexico City', 'Japan': 'Mexico'}, {'X': 'Rome', 'Japan': 'Italy'}, {'X': 'Brasilia', 'Japan': 'Brazil'}, {'X': 'Canberra', 'Japan': 'Australia'}, {'X': 'New Delhi', 'Japan': 'India'}, {'X': 'Pretoria', 'Japan': 'South Africa'}, {'X': 'Madrid', 'Japan': 'Spain'}, {'X': 'Moscow', 'Japan': 'Russia'}, {'X': 'Berlin', 'Japan': 'Germany'}, {'X': 'Bangkok', 'Japan': 'Thailand'}, {'X': 'Stockholm', 'Japan': 'Sweden'}, {'X': 'Cairo', 'Japan': 'Egypt'}, {'X': 'Wellington', 'Japan': 'New Zealand'}, {'X': 'Ankara', 'Japan': 'Turkey'}, {'X': 'Buenos Aires', 'Japan': 'Argentina'}, {'X': 'Kathmandu', 'Japan': 'Nepal'}, {'X': 'Athens', 'Japan': 'Greece'}, {'X': 'Nairobi', 'Japan': 'Kenya'}, {'X': 'Lisbon', 'Japan': 'Portugal'}, {'X': 'Oslo', 'Japan': 'Norway'}, {'X': 'Jakarta', 'Japan': 'Indonesia'}, {'X': 'Hanoi', 'Japan': 'Vietnam'}, {'X': 'Dublin', 'Japan': 'Ireland'}, {'X': 'Beijing', 'Japan': 'China'}, {'X': 'Paris', 'Japan': 'France'}, {'X': 'Santiago', 'Japan': 'Chile'}, {'X': 'Rabat', 'Japan': 'Morocco'}, {'X': 'Singapore', 'Japan': 'Singapore'}, {'X': 'Lima', 'Japan': 'Peru'}, {'X': 'Helsinki', 'Japan': 'Finland'}, {'X': 'Prague', 'Japan': 'Czech Republic'}, {'X': 'Manila', 'Japan': 'Philippines'}, {'X': 'Brussels', 'Japan': 'Belgium'}, {'X': 'Kuala Lumpur', 'Japan': 'Malaysia'}, {'X': 'Amsterdam', 'Japan': 'Netherlands'}, {'X': 'Washington D.C.', 'Japan': 'United States'}, {'X': 'London', 'Japan': 'United Kingdom'}, {'X': 'Seoul', 'Japan': 'South Korea'}, {'X': 'Bogota', 'Japan': 'Colombia'}, {'X': 'Warsaw', 'Japan': 'Poland'}, {'X': 'Jerusalem', 'Japan': 'Israel'}, {'X': 'Kyiv', 'Japan': 'Ukraine'}, {'X': 'Vienna', 'Japan': 'Austria'}, {'X': 'Copenhagen', 'Japan': 'Denmark'}, {'X': 'Dhaka', 'Japan': 'Bangladesh'}, {'X': 'Montevideo', 'Japan': 'Uruguay'}, {'X': 'Bern', 'Japan': 'Switzerland'}, {'X': 'Islamabad', 'Japan': 'Pakistan'}, {'X': 'Budapest', 'Japan': 'Hungary'}, {'X': 'Zagreb', 'Japan': 'Croatia'}, {'X': 'Colombo', 'Japan': 'Sri Lanka'}, {'X': 'Tehran', 'Japan': 'Iran'}, {'X': 'Bratislava', 'Japan': 'Slovakia'}, {'X': 'Cancun', 'Japan': 'Mexico'}, {'X': 'Venice', 'Japan': 'Italy'}, {'X': 'Florence', 'Japan': 'Italy'}, {'X': 'Milan', 'Japan': 'Italy'}, {'X': 'Saint Petersburg', 'Japan': 'Russia'}, {'X': 'Vladivostok', 'Japan': 'Russia'}, {'X': 'New York City', 'Japan': 'United States'}, {'X': 'Los Angeles', 'Japan': 'United States'}, {'X': 'Chicago', 'Japan': 'United States'}, {'X': 'Miami', 'Japan': 'United States'}, {'X': 'Shiraz', 'Japan': 'Iran'}, {'X': 'Isfahan', 'Japan': 'Iran'}, {'X': 'Mashhad', 'Japan': 'Iran'}, {'X': 'Tabriz', 'Japan': 'Iran'}, {'X': 'Yazd', 'Japan': 'Iran'}, {'X': 'Shanghai', 'Japan': 'China'}, {'X': 'Guangzhou', 'Japan': 'China'}, {'X': 'Chengdu', 'Japan': 'China'}, {'X': 'Xian', 'Japan': 'China'}, {'X': 'Bergen', 'Japan': 'Norway'}, {'X': 'TromsÃ¸', 'Japan': 'Norway'}, {'X': 'Marseille', 'Japan': 'France'}, {'X': 'Lyon', 'Japan': 'France'}, {'X': 'Sentosa', 'Japan': 'Singapore'}, {'X': 'Marina Bay', 'Japan': 'Singapore'}, {'X': 'Cusco', 'Japan': 'Peru'}, {'X': 'Arequipa', 'Japan': 'Peru'}, {'X': 'Busan', 'Japan': 'South Korea'}, {'X': 'Incheon', 'Japan': 'South Korea'}, {'X': 'Medellin', 'Japan': 'Colombia'}, {'X': 'Cali', 'Japan': 'Colombia'}, {'X': 'Lahore', 'Japan': 'Pakistan'}, {'X': 'Karachi', 'Japan': 'Pakistan'}, {'X': 'Zurich', 'Japan': 'Switzerland'}, {'X': 'Geneva', 'Japan': 'Switzerland'}, {'X': 'Izmir', 'Japan': 'Turkey'}, {'X': 'Antalya', 'Japan': 'Turkey'}, {'X': 'Bursa', 'Japan': 'Turkey'}, {'X': 'Munich', 'Japan': 'Germany'}, {'X': 'Hamburg', 'Japan': 'Germany'}, {'X': 'Frankfurt', 'Japan': 'Germany'}, {'X': 'Alexandria', 'Japan': 'Egypt'}, {'X': 'Luxor', 'Japan': 'Egypt'}, {'X': 'Aswan', 'Japan': 'Egypt'}, {'X': 'Christchurch', 'Japan': 'New Zealand'}, {'X': 'Queenstown', 'Japan': 'New Zealand'}, {'X': 'Rotorua', 'Japan': 'New Zealand'}]\n",
      "[{'X': 'Tokyo', 'Iran': 'Japan'}, {'X': 'Ottawa', 'Iran': 'Canada'}, {'X': 'Mexico City', 'Iran': 'Mexico'}, {'X': 'Rome', 'Iran': 'Italy'}, {'X': 'Brasilia', 'Iran': 'Brazil'}, {'X': 'Canberra', 'Iran': 'Australia'}, {'X': 'New Delhi', 'Iran': 'India'}, {'X': 'Pretoria', 'Iran': 'South Africa'}, {'X': 'Madrid', 'Iran': 'Spain'}, {'X': 'Moscow', 'Iran': 'Russia'}, {'X': 'Berlin', 'Iran': 'Germany'}, {'X': 'Bangkok', 'Iran': 'Thailand'}, {'X': 'Stockholm', 'Iran': 'Sweden'}, {'X': 'Cairo', 'Iran': 'Egypt'}, {'X': 'Wellington', 'Iran': 'New Zealand'}, {'X': 'Ankara', 'Iran': 'Turkey'}, {'X': 'Buenos Aires', 'Iran': 'Argentina'}, {'X': 'Kathmandu', 'Iran': 'Nepal'}, {'X': 'Athens', 'Iran': 'Greece'}, {'X': 'Nairobi', 'Iran': 'Kenya'}, {'X': 'Lisbon', 'Iran': 'Portugal'}, {'X': 'Oslo', 'Iran': 'Norway'}, {'X': 'Jakarta', 'Iran': 'Indonesia'}, {'X': 'Hanoi', 'Iran': 'Vietnam'}, {'X': 'Dublin', 'Iran': 'Ireland'}, {'X': 'Beijing', 'Iran': 'China'}, {'X': 'Paris', 'Iran': 'France'}, {'X': 'Santiago', 'Iran': 'Chile'}, {'X': 'Rabat', 'Iran': 'Morocco'}, {'X': 'Singapore', 'Iran': 'Singapore'}, {'X': 'Lima', 'Iran': 'Peru'}, {'X': 'Helsinki', 'Iran': 'Finland'}, {'X': 'Prague', 'Iran': 'Czech Republic'}, {'X': 'Manila', 'Iran': 'Philippines'}, {'X': 'Brussels', 'Iran': 'Belgium'}, {'X': 'Kuala Lumpur', 'Iran': 'Malaysia'}, {'X': 'Amsterdam', 'Iran': 'Netherlands'}, {'X': 'Washington D.C.', 'Iran': 'United States'}, {'X': 'London', 'Iran': 'United Kingdom'}, {'X': 'Seoul', 'Iran': 'South Korea'}, {'X': 'Bogota', 'Iran': 'Colombia'}, {'X': 'Warsaw', 'Iran': 'Poland'}, {'X': 'Jerusalem', 'Iran': 'Israel'}, {'X': 'Kyiv', 'Iran': 'Ukraine'}, {'X': 'Vienna', 'Iran': 'Austria'}, {'X': 'Copenhagen', 'Iran': 'Denmark'}, {'X': 'Dhaka', 'Iran': 'Bangladesh'}, {'X': 'Montevideo', 'Iran': 'Uruguay'}, {'X': 'Bern', 'Iran': 'Switzerland'}, {'X': 'Islamabad', 'Iran': 'Pakistan'}, {'X': 'Budapest', 'Iran': 'Hungary'}, {'X': 'Zagreb', 'Iran': 'Croatia'}, {'X': 'Colombo', 'Iran': 'Sri Lanka'}, {'X': 'Tehran', 'Iran': 'Iran'}, {'X': 'Bratislava', 'Iran': 'Slovakia'}, {'X': 'Cancun', 'Iran': 'Mexico'}, {'X': 'Venice', 'Iran': 'Italy'}, {'X': 'Florence', 'Iran': 'Italy'}, {'X': 'Milan', 'Iran': 'Italy'}, {'X': 'Saint Petersburg', 'Iran': 'Russia'}, {'X': 'Vladivostok', 'Iran': 'Russia'}, {'X': 'New York City', 'Iran': 'United States'}, {'X': 'Los Angeles', 'Iran': 'United States'}, {'X': 'Chicago', 'Iran': 'United States'}, {'X': 'Miami', 'Iran': 'United States'}, {'X': 'Shiraz', 'Iran': 'Iran'}, {'X': 'Isfahan', 'Iran': 'Iran'}, {'X': 'Mashhad', 'Iran': 'Iran'}, {'X': 'Tabriz', 'Iran': 'Iran'}, {'X': 'Yazd', 'Iran': 'Iran'}, {'X': 'Shanghai', 'Iran': 'China'}, {'X': 'Guangzhou', 'Iran': 'China'}, {'X': 'Chengdu', 'Iran': 'China'}, {'X': 'Xian', 'Iran': 'China'}, {'X': 'Bergen', 'Iran': 'Norway'}, {'X': 'TromsÃ¸', 'Iran': 'Norway'}, {'X': 'Marseille', 'Iran': 'France'}, {'X': 'Lyon', 'Iran': 'France'}, {'X': 'Sentosa', 'Iran': 'Singapore'}, {'X': 'Marina Bay', 'Iran': 'Singapore'}, {'X': 'Cusco', 'Iran': 'Peru'}, {'X': 'Arequipa', 'Iran': 'Peru'}, {'X': 'Busan', 'Iran': 'South Korea'}, {'X': 'Incheon', 'Iran': 'South Korea'}, {'X': 'Medellin', 'Iran': 'Colombia'}, {'X': 'Cali', 'Iran': 'Colombia'}, {'X': 'Lahore', 'Iran': 'Pakistan'}, {'X': 'Karachi', 'Iran': 'Pakistan'}, {'X': 'Zurich', 'Iran': 'Switzerland'}, {'X': 'Geneva', 'Iran': 'Switzerland'}, {'X': 'Izmir', 'Iran': 'Turkey'}, {'X': 'Antalya', 'Iran': 'Turkey'}, {'X': 'Bursa', 'Iran': 'Turkey'}, {'X': 'Munich', 'Iran': 'Germany'}, {'X': 'Hamburg', 'Iran': 'Germany'}, {'X': 'Frankfurt', 'Iran': 'Germany'}, {'X': 'Alexandria', 'Iran': 'Egypt'}, {'X': 'Luxor', 'Iran': 'Egypt'}, {'X': 'Aswan', 'Iran': 'Egypt'}, {'X': 'Christchurch', 'Iran': 'New Zealand'}, {'X': 'Queenstown', 'Iran': 'New Zealand'}, {'X': 'Rotorua', 'Iran': 'New Zealand'}]\n",
      "[{'X': 'Tokyo', 'Short': 'Long'}, {'X': 'Ottawa', 'Short': 'Medium'}, {'X': 'Mexico City', 'Short': 'Short'}, {'X': 'Rome', 'Short': 'Medium'}, {'X': 'Brasilia', 'Short': 'Long'}, {'X': 'Canberra', 'Short': 'Long'}, {'X': 'New Delhi', 'Short': 'Long'}, {'X': 'Pretoria', 'Short': 'Medium'}, {'X': 'Madrid', 'Short': 'Short'}, {'X': 'Moscow', 'Short': 'Long'}, {'X': 'Berlin', 'Short': 'Short'}, {'X': 'Bangkok', 'Short': 'Medium'}, {'X': 'Stockholm', 'Short': 'Long'}, {'X': 'Cairo', 'Short': 'Short'}, {'X': 'Wellington', 'Short': 'Long'}, {'X': 'Ankara', 'Short': 'Medium'}, {'X': 'Buenos Aires', 'Short': 'Long'}, {'X': 'Kathmandu', 'Short': 'Long'}, {'X': 'Athens', 'Short': 'Short'}, {'X': 'Nairobi', 'Short': 'Medium'}, {'X': 'Lisbon', 'Short': 'Medium'}, {'X': 'Oslo', 'Short': 'Long'}, {'X': 'Jakarta', 'Short': 'Long'}, {'X': 'Hanoi', 'Short': 'Medium'}, {'X': 'Dublin', 'Short': 'Short'}, {'X': 'Beijing', 'Short': 'Long'}, {'X': 'Paris', 'Short': 'Short'}, {'X': 'Santiago', 'Short': 'Long'}, {'X': 'Rabat', 'Short': 'Short'}, {'X': 'Singapore', 'Short': 'Short'}, {'X': 'Lima', 'Short': 'Medium'}, {'X': 'Helsinki', 'Short': 'Long'}, {'X': 'Prague', 'Short': 'Short'}, {'X': 'Manila', 'Short': 'Long'}, {'X': 'Brussels', 'Short': 'Short'}, {'X': 'Kuala Lumpur', 'Short': 'Medium'}, {'X': 'Amsterdam', 'Short': 'Short'}, {'X': 'Washington D.C.', 'Short': 'Long'}, {'X': 'London', 'Short': 'Short'}, {'X': 'Seoul', 'Short': 'Medium'}, {'X': 'Bogota', 'Short': 'Long'}, {'X': 'Warsaw', 'Short': 'Short'}, {'X': 'Jerusalem', 'Short': 'Short'}, {'X': 'Kyiv', 'Short': 'Medium'}, {'X': 'Vienna', 'Short': 'Short'}, {'X': 'Copenhagen', 'Short': 'Short'}, {'X': 'Dhaka', 'Short': 'Medium'}, {'X': 'Montevideo', 'Short': 'Short'}, {'X': 'Bern', 'Short': 'Medium'}, {'X': 'Islamabad', 'Short': 'Long'}, {'X': 'Budapest', 'Short': 'Short'}, {'X': 'Zagreb', 'Short': 'Medium'}, {'X': 'Colombo', 'Short': 'Long'}, {'X': 'Tehran', 'Short': 'Medium'}, {'X': 'Bratislava', 'Short': 'Short'}, {'X': 'Cancun', 'Short': 'Medium'}, {'X': 'Venice', 'Short': 'Short'}, {'X': 'Florence', 'Short': 'Short'}, {'X': 'Milan', 'Short': 'Short'}, {'X': 'Saint Petersburg', 'Short': 'Medium'}, {'X': 'Vladivostok', 'Short': 'Long'}, {'X': 'New York City', 'Short': 'Short'}, {'X': 'Los Angeles', 'Short': 'Medium'}, {'X': 'Chicago', 'Short': 'Short'}, {'X': 'Miami', 'Short': 'Short'}, {'X': 'Shiraz', 'Short': 'Short'}, {'X': 'Isfahan', 'Short': 'Medium'}, {'X': 'Mashhad', 'Short': 'Short'}, {'X': 'Tabriz', 'Short': 'Medium'}, {'X': 'Yazd', 'Short': 'Short'}, {'X': 'Shanghai', 'Short': 'Short'}, {'X': 'Guangzhou', 'Short': 'Medium'}, {'X': 'Chengdu', 'Short': 'Short'}, {'X': 'Xian', 'Short': 'Medium'}, {'X': 'Bergen', 'Short': 'Short'}, {'X': 'TromsÃ¸', 'Short': 'Short'}, {'X': 'Marseille', 'Short': 'Short'}, {'X': 'Lyon', 'Short': 'Short'}, {'X': 'Sentosa', 'Short': 'Short'}, {'X': 'Marina Bay', 'Short': 'Short'}, {'X': 'Cusco', 'Short': 'Medium'}, {'X': 'Arequipa', 'Short': 'Medium'}, {'X': 'Busan', 'Short': 'Short'}, {'X': 'Incheon', 'Short': 'Short'}, {'X': 'Medellin', 'Short': 'Medium'}, {'X': 'Cali', 'Short': 'Short'}, {'X': 'Lahore', 'Short': 'Short'}, {'X': 'Karachi', 'Short': 'Medium'}, {'X': 'Zurich', 'Short': 'Short'}, {'X': 'Geneva', 'Short': 'Short'}, {'X': 'Izmir', 'Short': 'Short'}, {'X': 'Antalya', 'Short': 'Short'}, {'X': 'Bursa', 'Short': 'Short'}, {'X': 'Munich', 'Short': 'Short'}, {'X': 'Hamburg', 'Short': 'Short'}, {'X': 'Frankfurt', 'Short': 'Short'}, {'X': 'Alexandria', 'Short': 'Short'}, {'X': 'Luxor', 'Short': 'Short'}, {'X': 'Aswan', 'Short': 'Short'}, {'X': 'Christchurch', 'Short': 'Medium'}, {'X': 'Queenstown', 'Short': 'Short'}, {'X': 'Rotorua', 'Short': 'Short'}]\n",
      "[{'X': 'Tokyo', 'English': 'Japanese'}, {'X': 'Ottawa', 'English': 'English'}, {'X': 'Mexico City', 'English': 'Spanish'}, {'X': 'Rome', 'English': 'Italian'}, {'X': 'Brasilia', 'English': 'Portuguese'}, {'X': 'Canberra', 'English': 'English'}, {'X': 'New Delhi', 'English': 'Hindi'}, {'X': 'Pretoria', 'English': 'English'}, {'X': 'Madrid', 'English': 'Spanish'}, {'X': 'Moscow', 'English': 'Russian'}, {'X': 'Berlin', 'English': 'German'}, {'X': 'Bangkok', 'English': 'Thai'}, {'X': 'Stockholm', 'English': 'Swedish'}, {'X': 'Cairo', 'English': 'Arabic'}, {'X': 'Wellington', 'English': 'English'}, {'X': 'Ankara', 'English': 'Turkish'}, {'X': 'Buenos Aires', 'English': 'Spanish'}, {'X': 'Kathmandu', 'English': 'Nepali'}, {'X': 'Athens', 'English': 'Greek'}, {'X': 'Nairobi', 'English': 'Swahili'}, {'X': 'Lisbon', 'English': 'Portuguese'}, {'X': 'Oslo', 'English': 'Norwegian'}, {'X': 'Jakarta', 'English': 'Indonesian'}, {'X': 'Hanoi', 'English': 'Vietnamese'}, {'X': 'Dublin', 'English': 'English'}, {'X': 'Beijing', 'English': 'Mandarin'}, {'X': 'Paris', 'English': 'French'}, {'X': 'Santiago', 'English': 'Spanish'}, {'X': 'Rabat', 'English': 'Arabic'}, {'X': 'Singapore', 'English': 'English'}, {'X': 'Lima', 'English': 'Spanish'}, {'X': 'Helsinki', 'English': 'Finnish'}, {'X': 'Prague', 'English': 'Czech'}, {'X': 'Manila', 'English': 'Filipino'}, {'X': 'Brussels', 'English': 'Dutch, French, German'}, {'X': 'Kuala Lumpur', 'English': 'Malay'}, {'X': 'Amsterdam', 'English': 'Dutch'}, {'X': 'Washington D.C.', 'English': 'English'}, {'X': 'London', 'English': 'English'}, {'X': 'Seoul', 'English': 'Korean'}, {'X': 'Bogota', 'English': 'Spanish'}, {'X': 'Warsaw', 'English': 'Polish'}, {'X': 'Jerusalem', 'English': 'Hebrew'}, {'X': 'Kyiv', 'English': 'Ukrainian'}, {'X': 'Vienna', 'English': 'German'}, {'X': 'Copenhagen', 'English': 'Danish'}, {'X': 'Dhaka', 'English': 'Bengali'}, {'X': 'Montevideo', 'English': 'Spanish'}, {'X': 'Bern', 'English': 'German, French, Italian'}, {'X': 'Islamabad', 'English': 'Urdu'}, {'X': 'Budapest', 'English': 'Hungarian'}, {'X': 'Zagreb', 'English': 'Croatian'}, {'X': 'Colombo', 'English': 'Sinhala, Tamil'}, {'X': 'Tehran', 'English': 'Persian'}, {'X': 'Bratislava', 'English': 'Slovak'}, {'X': 'Cancun', 'English': 'Spanish'}, {'X': 'Venice', 'English': 'Italian'}, {'X': 'Florence', 'English': 'Italian'}, {'X': 'Milan', 'English': 'Italian'}, {'X': 'Saint Petersburg', 'English': 'Russian'}, {'X': 'Vladivostok', 'English': 'Russian'}, {'X': 'New York City', 'English': 'English'}, {'X': 'Los Angeles', 'English': 'English'}, {'X': 'Chicago', 'English': 'English'}, {'X': 'Miami', 'English': 'English, Spanish'}, {'X': 'Shiraz', 'English': 'Persian'}, {'X': 'Isfahan', 'English': 'Persian'}, {'X': 'Mashhad', 'English': 'Persian'}, {'X': 'Tabriz', 'English': 'Persian'}, {'X': 'Yazd', 'English': 'Persian'}, {'X': 'Shanghai', 'English': 'Mandarin'}, {'X': 'Guangzhou', 'English': 'Mandarin'}, {'X': 'Chengdu', 'English': 'Mandarin'}, {'X': 'Xian', 'English': 'Mandarin'}, {'X': 'Bergen', 'English': 'Norwegian'}, {'X': 'TromsÃ¸', 'English': 'Norwegian'}, {'X': 'Marseille', 'English': 'French'}, {'X': 'Lyon', 'English': 'French'}, {'X': 'Sentosa', 'English': 'English'}, {'X': 'Marina Bay', 'English': 'English'}, {'X': 'Cusco', 'English': 'Spanish'}, {'X': 'Arequipa', 'English': 'Spanish'}, {'X': 'Busan', 'English': 'Korean'}, {'X': 'Incheon', 'English': 'Korean'}, {'X': 'Medellin', 'English': 'Spanish'}, {'X': 'Cali', 'English': 'Spanish'}, {'X': 'Lahore', 'English': 'Urdu'}, {'X': 'Karachi', 'English': 'Urdu'}, {'X': 'Zurich', 'English': 'German'}, {'X': 'Geneva', 'English': 'French'}, {'X': 'Izmir', 'English': 'Turkish'}, {'X': 'Antalya', 'English': 'Turkish'}, {'X': 'Bursa', 'English': 'Turkish'}, {'X': 'Munich', 'English': 'German'}, {'X': 'Hamburg', 'English': 'German'}, {'X': 'Frankfurt', 'English': 'German'}, {'X': 'Alexandria', 'English': 'Arabic'}, {'X': 'Luxor', 'English': 'Arabic'}, {'X': 'Aswan', 'English': 'Arabic'}, {'X': 'Christchurch', 'English': 'English'}, {'X': 'Queenstown', 'English': 'English'}, {'X': 'Rotorua', 'English': 'English'}]\n"
     ]
    }
   ],
   "source": [
    "keys = list(dict.keys())\n",
    "for key in keys:\n",
    "    for value in dict[key]:\n",
    "        if dict[key]:\n",
    "            print(list(prolog.query(f\"{key}(X, {value})\")))"
   ],
   "metadata": {
    "collapsed": false,
    "pycharm": {
     "name": "#%%\n"
    }
   }
  },
  {
   "cell_type": "code",
   "execution_count": null,
   "outputs": [],
   "source": [],
   "metadata": {
    "collapsed": false,
    "pycharm": {
     "name": "#%%\n"
    }
   }
  }
 ],
 "metadata": {
  "kernelspec": {
   "display_name": "Python 3",
   "language": "python",
   "name": "python3"
  },
  "language_info": {
   "codemirror_mode": {
    "name": "ipython",
    "version": 2
   },
   "file_extension": ".py",
   "mimetype": "text/x-python",
   "name": "python",
   "nbconvert_exporter": "python",
   "pygments_lexer": "ipython2",
   "version": "2.7.6"
  }
 },
 "nbformat": 4,
 "nbformat_minor": 0
}