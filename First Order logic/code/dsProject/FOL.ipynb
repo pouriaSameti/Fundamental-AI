{
 "cells": [
  {
   "cell_type": "code",
   "execution_count": 38,
   "metadata": {
    "collapsed": false,
    "jupyter": {
     "outputs_hidden": false
    },
    "pycharm": {
     "name": "#%%\n"
    }
   },
   "outputs": [],
   "source": [
    "# %pip install pyswip\n",
    "# %pip install pandas\n",
    "from pyswip import Prolog\n",
    "import pandas as pd\n",
    "import numpy as np\n",
    "import csv"
   ]
  },
  {
   "cell_type": "code",
   "execution_count": 39,
   "metadata": {
    "collapsed": false,
    "jupyter": {
     "outputs_hidden": false
    },
    "pycharm": {
     "name": "#%%\n"
    }
   },
   "outputs": [],
   "source": [
    "# Clear existing facts to avoid duplicates\n",
    "\n",
    "prolog = Prolog()\n",
    "prolog.retractall(\"my_destination(_)\")\n",
    "prolog.retractall(\"country(_,_)\")\n",
    "prolog.retractall(\"region(_,_)\")\n",
    "prolog.retractall(\"climate(_,_)\")\n",
    "prolog.retractall(\"budget(_,_)\")\n",
    "prolog.retractall(\"activity(_,_)\")\n",
    "prolog.retractall(\"demographic(_,_)\")\n",
    "prolog.retractall(\"duration(_,_)\")\n",
    "prolog.retractall(\"cuisine(_,_)\")\n",
    "prolog.retractall(\"history(_,_)\")\n",
    "prolog.retractall(\"natural_wonder(_,_)\")\n",
    "prolog.retractall(\"accommodation(_,_)\")\n",
    "prolog.retractall(\"language(_,_)\")\n",
    "prolog.retractall(\"is_country(_)\")\n",
    "prolog.retractall(\"is_region(_)\")\n",
    "prolog.retractall(\"is_climate(_)\")\n",
    "prolog.retractall(\"is_budget(_)\")\n",
    "prolog.retractall(\"is_activity(_)\")\n",
    "prolog.retractall(\"is_demographic(_)\")\n",
    "prolog.retractall(\"is_duration(_)\")\n",
    "prolog.retractall(\"is_cuisine(_)\")\n",
    "prolog.retractall(\"is_history(_)\")\n",
    "prolog.retractall(\"is_natural_wonder(_)\")\n",
    "prolog.retractall(\"is_accommodation(_)\")\n",
    "prolog.retractall(\"is_language(_)\")\n",
    "prolog.retractall(\"connected(_,_)\")\n",
    "\n",
    "\n"
   ]
  },
  {
   "cell_type": "code",
   "execution_count": 40,
   "metadata": {
    "collapsed": false,
    "jupyter": {
     "outputs_hidden": false
    },
    "pycharm": {
     "name": "#%%\n"
    }
   },
   "outputs": [],
   "source": [
    "# Read data from CSV and assert facts into Prolog\n",
    "with open('../../data/Destinations.csv', 'r') as csvfile:\n",
    "    reader = csv.DictReader(csvfile)\n",
    "\n",
    "    for row in reader:\n",
    "        destination = row['Destinations']\n",
    "\n",
    "        prolog.assertz(f\"my_destination('{destination}')\")\n",
    "        prolog.assertz(f\"country('{destination}', '{row['country']}')\")\n",
    "        prolog.assertz(f\"region('{destination}', '{row['region']}')\")\n",
    "        prolog.assertz(f\"climate('{destination}', '{row['Climate']}')\")\n",
    "        prolog.assertz(f\"budget('{destination}', '{row['Budget']}')\")\n",
    "        prolog.assertz(f\"activity('{destination}', '{row['Activity']}')\")\n",
    "        prolog.assertz(f\"demographic('{destination}', '{row['Demographics']}')\")\n",
    "        prolog.assertz(f\"duration('{destination}', '{row['Duration']}')\")\n",
    "        prolog.assertz(f\"cuisine('{destination}', '{row['Cuisine']}')\")\n",
    "        prolog.assertz(f\"history('{destination}', '{row['History']}')\")\n",
    "        prolog.assertz(f\"natural_wonder('{destination}', '{row['Natural Wonder']}')\")\n",
    "        prolog.assertz(f\"accommodation('{destination}', '{row['Accommodation']}')\")\n",
    "        prolog.assertz(f\"language('{destination}', '{row['Language']}')\")\n"
   ]
  },
  {
   "cell_type": "code",
   "execution_count": 41,
   "metadata": {
    "collapsed": false,
    "jupyter": {
     "outputs_hidden": false
    },
    "pycharm": {
     "name": "#%%\n"
    }
   },
   "outputs": [],
   "source": [
    "data = pd.read_csv('../../data/Destinations.csv')\n",
    "for country in set(data['country'].values):\n",
    "    prolog.assertz(f\"is_country('{country}')\")\n",
    "\n",
    "for region in set(data['region'].values):\n",
    "    prolog.assertz(f\"is_region('{region}')\")\n",
    "\n",
    "for climate in set(data['Climate'].values):\n",
    "    prolog.assertz(f\"is_climate('{climate}')\")\n",
    "\n",
    "for budget in set(data['Budget'].values):\n",
    "    prolog.assertz(f\"is_budget('{budget}')\")\n",
    "\n",
    "for activity in set(data['Activity'].values):\n",
    "    prolog.assertz(f\"is_activity('{activity}')\")\n",
    "\n",
    "for demographic in set(data['Demographics'].values):\n",
    "    prolog.assertz(f\"is_demographic('{demographic}')\")\n",
    "\n",
    "for duration in set(data['Duration'].values):\n",
    "    prolog.assertz(f\"is_duration('{duration}')\")\n",
    "\n",
    "for cuisine in set(data['Cuisine'].values):\n",
    "    prolog.assertz(f\"is_cuisine('{cuisine}')\")\n",
    "\n",
    "for history in set(data['History'].values):\n",
    "    prolog.assertz(f\"is_history('{history}')\")\n",
    "\n",
    "for natural_wonder in set(data['Natural Wonder'].values):\n",
    "    prolog.assertz(f\"is_natural_wonder('{natural_wonder}')\")\n",
    "\n",
    "for accommodation in set(data['Accommodation'].values):\n",
    "    prolog.assertz(f\"is_accommodation('{accommodation}')\")\n",
    "\n",
    "for language in set(data['Language'].values):\n",
    "    prolog.assertz(f\"is_language('{language}')\")\n"
   ]
  },
  {
   "cell_type": "code",
   "execution_count": 42,
   "metadata": {
    "collapsed": false,
    "jupyter": {
     "outputs_hidden": false
    },
    "pycharm": {
     "name": "#%%\n"
    }
   },
   "outputs": [
    {
     "data": {
      "text/plain": "              Tokyo  Ottawa  Mexico City  Rome  Brasilia  Canberra  New Delhi  \\\nDestinations                                                                    \nTokyo             0       0            0     0         0         0          0   \nOttawa            0       0            0     0         0         0          0   \nMexico City       0       0            0     0         0         0          0   \nRome              0       0            0     0         0         0          0   \nBrasilia          0       0            0     0         0         0          0   \n...             ...     ...          ...   ...       ...       ...        ...   \nLuxor             0       0            0     0         0         1          0   \nAswan             0       0            0     0         0         0          0   \nChristchurch      0       0            0     0         0         0          0   \nQueenstown        0       0            0     0         0         0          0   \nRotorua           0       0            0     0         0         0          0   \n\n              Pretoria  Madrid  Moscow  ...  Bursa  Munich  Hamburg  \\\nDestinations                            ...                           \nTokyo                0       0       0  ...      0       0        0   \nOttawa               0       0       0  ...      1       1        0   \nMexico City          0       0       0  ...      0       0        0   \nRome                 0       0       0  ...      0       0        0   \nBrasilia             0       0       0  ...      0       0        0   \n...                ...     ...     ...  ...    ...     ...      ...   \nLuxor                0       0       0  ...      0       0        0   \nAswan                0       0       0  ...      0       0        0   \nChristchurch         0       0       0  ...      0       0        0   \nQueenstown           0       0       0  ...      0       0        0   \nRotorua              0       0       0  ...      0       0        0   \n\n              Frankfurt  Alexandria  Luxor  Aswan  Christchurch  Queenstown  \\\nDestinations                                                                  \nTokyo                 0           0      0      0             0           0   \nOttawa                0           0      0      0             0           0   \nMexico City           0           0      0      0             0           0   \nRome                  0           0      0      0             0           0   \nBrasilia              0           0      0      0             0           0   \n...                 ...         ...    ...    ...           ...         ...   \nLuxor                 0           0      0      0             0           0   \nAswan                 0           0      0      0             0           0   \nChristchurch          0           0      0      0             0           0   \nQueenstown            0           0      0      0             0           0   \nRotorua               0           0      0      1             0           0   \n\n              Rotorua  \nDestinations           \nTokyo               0  \nOttawa              0  \nMexico City         0  \nRome                0  \nBrasilia            0  \n...               ...  \nLuxor               0  \nAswan               1  \nChristchurch        0  \nQueenstown          0  \nRotorua             0  \n\n[102 rows x 102 columns]",
      "text/html": "<div>\n<style scoped>\n    .dataframe tbody tr th:only-of-type {\n        vertical-align: middle;\n    }\n\n    .dataframe tbody tr th {\n        vertical-align: top;\n    }\n\n    .dataframe thead th {\n        text-align: right;\n    }\n</style>\n<table border=\"1\" class=\"dataframe\">\n  <thead>\n    <tr style=\"text-align: right;\">\n      <th></th>\n      <th>Tokyo</th>\n      <th>Ottawa</th>\n      <th>Mexico City</th>\n      <th>Rome</th>\n      <th>Brasilia</th>\n      <th>Canberra</th>\n      <th>New Delhi</th>\n      <th>Pretoria</th>\n      <th>Madrid</th>\n      <th>Moscow</th>\n      <th>...</th>\n      <th>Bursa</th>\n      <th>Munich</th>\n      <th>Hamburg</th>\n      <th>Frankfurt</th>\n      <th>Alexandria</th>\n      <th>Luxor</th>\n      <th>Aswan</th>\n      <th>Christchurch</th>\n      <th>Queenstown</th>\n      <th>Rotorua</th>\n    </tr>\n    <tr>\n      <th>Destinations</th>\n      <th></th>\n      <th></th>\n      <th></th>\n      <th></th>\n      <th></th>\n      <th></th>\n      <th></th>\n      <th></th>\n      <th></th>\n      <th></th>\n      <th></th>\n      <th></th>\n      <th></th>\n      <th></th>\n      <th></th>\n      <th></th>\n      <th></th>\n      <th></th>\n      <th></th>\n      <th></th>\n      <th></th>\n    </tr>\n  </thead>\n  <tbody>\n    <tr>\n      <th>Tokyo</th>\n      <td>0</td>\n      <td>0</td>\n      <td>0</td>\n      <td>0</td>\n      <td>0</td>\n      <td>0</td>\n      <td>0</td>\n      <td>0</td>\n      <td>0</td>\n      <td>0</td>\n      <td>...</td>\n      <td>0</td>\n      <td>0</td>\n      <td>0</td>\n      <td>0</td>\n      <td>0</td>\n      <td>0</td>\n      <td>0</td>\n      <td>0</td>\n      <td>0</td>\n      <td>0</td>\n    </tr>\n    <tr>\n      <th>Ottawa</th>\n      <td>0</td>\n      <td>0</td>\n      <td>0</td>\n      <td>0</td>\n      <td>0</td>\n      <td>0</td>\n      <td>0</td>\n      <td>0</td>\n      <td>0</td>\n      <td>0</td>\n      <td>...</td>\n      <td>1</td>\n      <td>1</td>\n      <td>0</td>\n      <td>0</td>\n      <td>0</td>\n      <td>0</td>\n      <td>0</td>\n      <td>0</td>\n      <td>0</td>\n      <td>0</td>\n    </tr>\n    <tr>\n      <th>Mexico City</th>\n      <td>0</td>\n      <td>0</td>\n      <td>0</td>\n      <td>0</td>\n      <td>0</td>\n      <td>0</td>\n      <td>0</td>\n      <td>0</td>\n      <td>0</td>\n      <td>0</td>\n      <td>...</td>\n      <td>0</td>\n      <td>0</td>\n      <td>0</td>\n      <td>0</td>\n      <td>0</td>\n      <td>0</td>\n      <td>0</td>\n      <td>0</td>\n      <td>0</td>\n      <td>0</td>\n    </tr>\n    <tr>\n      <th>Rome</th>\n      <td>0</td>\n      <td>0</td>\n      <td>0</td>\n      <td>0</td>\n      <td>0</td>\n      <td>0</td>\n      <td>0</td>\n      <td>0</td>\n      <td>0</td>\n      <td>0</td>\n      <td>...</td>\n      <td>0</td>\n      <td>0</td>\n      <td>0</td>\n      <td>0</td>\n      <td>0</td>\n      <td>0</td>\n      <td>0</td>\n      <td>0</td>\n      <td>0</td>\n      <td>0</td>\n    </tr>\n    <tr>\n      <th>Brasilia</th>\n      <td>0</td>\n      <td>0</td>\n      <td>0</td>\n      <td>0</td>\n      <td>0</td>\n      <td>0</td>\n      <td>0</td>\n      <td>0</td>\n      <td>0</td>\n      <td>0</td>\n      <td>...</td>\n      <td>0</td>\n      <td>0</td>\n      <td>0</td>\n      <td>0</td>\n      <td>0</td>\n      <td>0</td>\n      <td>0</td>\n      <td>0</td>\n      <td>0</td>\n      <td>0</td>\n    </tr>\n    <tr>\n      <th>...</th>\n      <td>...</td>\n      <td>...</td>\n      <td>...</td>\n      <td>...</td>\n      <td>...</td>\n      <td>...</td>\n      <td>...</td>\n      <td>...</td>\n      <td>...</td>\n      <td>...</td>\n      <td>...</td>\n      <td>...</td>\n      <td>...</td>\n      <td>...</td>\n      <td>...</td>\n      <td>...</td>\n      <td>...</td>\n      <td>...</td>\n      <td>...</td>\n      <td>...</td>\n      <td>...</td>\n    </tr>\n    <tr>\n      <th>Luxor</th>\n      <td>0</td>\n      <td>0</td>\n      <td>0</td>\n      <td>0</td>\n      <td>0</td>\n      <td>1</td>\n      <td>0</td>\n      <td>0</td>\n      <td>0</td>\n      <td>0</td>\n      <td>...</td>\n      <td>0</td>\n      <td>0</td>\n      <td>0</td>\n      <td>0</td>\n      <td>0</td>\n      <td>0</td>\n      <td>0</td>\n      <td>0</td>\n      <td>0</td>\n      <td>0</td>\n    </tr>\n    <tr>\n      <th>Aswan</th>\n      <td>0</td>\n      <td>0</td>\n      <td>0</td>\n      <td>0</td>\n      <td>0</td>\n      <td>0</td>\n      <td>0</td>\n      <td>0</td>\n      <td>0</td>\n      <td>0</td>\n      <td>...</td>\n      <td>0</td>\n      <td>0</td>\n      <td>0</td>\n      <td>0</td>\n      <td>0</td>\n      <td>0</td>\n      <td>0</td>\n      <td>0</td>\n      <td>0</td>\n      <td>1</td>\n    </tr>\n    <tr>\n      <th>Christchurch</th>\n      <td>0</td>\n      <td>0</td>\n      <td>0</td>\n      <td>0</td>\n      <td>0</td>\n      <td>0</td>\n      <td>0</td>\n      <td>0</td>\n      <td>0</td>\n      <td>0</td>\n      <td>...</td>\n      <td>0</td>\n      <td>0</td>\n      <td>0</td>\n      <td>0</td>\n      <td>0</td>\n      <td>0</td>\n      <td>0</td>\n      <td>0</td>\n      <td>0</td>\n      <td>0</td>\n    </tr>\n    <tr>\n      <th>Queenstown</th>\n      <td>0</td>\n      <td>0</td>\n      <td>0</td>\n      <td>0</td>\n      <td>0</td>\n      <td>0</td>\n      <td>0</td>\n      <td>0</td>\n      <td>0</td>\n      <td>0</td>\n      <td>...</td>\n      <td>0</td>\n      <td>0</td>\n      <td>0</td>\n      <td>0</td>\n      <td>0</td>\n      <td>0</td>\n      <td>0</td>\n      <td>0</td>\n      <td>0</td>\n      <td>0</td>\n    </tr>\n    <tr>\n      <th>Rotorua</th>\n      <td>0</td>\n      <td>0</td>\n      <td>0</td>\n      <td>0</td>\n      <td>0</td>\n      <td>0</td>\n      <td>0</td>\n      <td>0</td>\n      <td>0</td>\n      <td>0</td>\n      <td>...</td>\n      <td>0</td>\n      <td>0</td>\n      <td>0</td>\n      <td>0</td>\n      <td>0</td>\n      <td>0</td>\n      <td>1</td>\n      <td>0</td>\n      <td>0</td>\n      <td>0</td>\n    </tr>\n  </tbody>\n</table>\n<p>102 rows × 102 columns</p>\n</div>"
     },
     "execution_count": 42,
     "metadata": {},
     "output_type": "execute_result"
    }
   ],
   "source": [
    "adj_matrix = pd.read_csv('..//..//data//Bi_Adjacency_matrix.csv', index_col = \"Destinations\")\n",
    "\n",
    "adj_matrix"
   ]
  },
  {
   "cell_type": "code",
   "execution_count": 43,
   "metadata": {
    "collapsed": false,
    "jupyter": {
     "outputs_hidden": false
    },
    "pycharm": {
     "name": "#%%\n"
    }
   },
   "outputs": [
    {
     "name": "stdout",
     "output_type": "stream",
     "text": [
      "[{'X': 'Lahore'}, {'X': 'Lahore'}, {'X': 'Lahore'}, {'X': 'Lahore'}]\n",
      "[{'X': 'Montevideo'}, {'X': 'Islamabad'}, {'X': 'Budapest'}, {'X': 'Mashhad'}, {'X': 'Tabriz'}, {'X': 'Chengdu'}, {'X': 'Arequipa'}, {'X': 'Hamburg'}, {'X': 'Alexandria'}]\n"
     ]
    }
   ],
   "source": [
    "for origin_index in range(0, len(adj_matrix.columns)):\n",
    "    for dest_index in range(0, len(adj_matrix.columns)):\n",
    "        if adj_matrix.iloc[dest_index, origin_index] == 1 and adj_matrix.columns[origin_index] != adj_matrix.columns[dest_index]:\n",
    "            prolog.assertz(f\"connected('{adj_matrix.columns[origin_index]}', '{adj_matrix.columns[dest_index]}')\")\n",
    "            # prolog.assertz(f\"connected('{adj_matrix.columns[dest_index]}', '{adj_matrix.columns[origin_index]}')\")\n",
    "\n",
    "\n",
    "prolog.assertz(\"connected2(X, Z, Y) :- connected(X, Z), connected(Z, Y)\")\n",
    "\n",
    "print(list(prolog.query(\"connected2('Tokyo', X, 'Mexico City')\")))\n",
    "print(list(prolog.query(\"connected('Madrid', X)\")))"
   ]
  },
  {
   "cell_type": "code",
   "execution_count": 44,
   "metadata": {
    "collapsed": false,
    "jupyter": {
     "outputs_hidden": false
    },
    "pycharm": {
     "name": "#%%\n"
    }
   },
   "outputs": [
    {
     "data": {
      "text/plain": "{'country': set(),\n 'region': set(),\n 'climate': set(),\n 'budget': set(),\n 'activity': {'Adventure', 'Cultural'},\n 'demographic': set(),\n 'duration': set(),\n 'cuisine': {'European'},\n 'history': {'Ancient'},\n 'natural_wonder': set(),\n 'accommodation': set(),\n 'language': set()}"
     },
     "execution_count": 44,
     "metadata": {},
     "output_type": "execute_result"
    }
   ],
   "source": [
    "import re\n",
    "import string\n",
    "\n",
    "def clean_text(text):\n",
    "    text = re.sub('\\[.*?\\]', ' ', text)\n",
    "    text = re.sub('<.*?>+', ' ', text)\n",
    "    text = re.sub('\\n', ' ', text)\n",
    "    text = re.sub('\\w*\\d\\w*', ' ', text)\n",
    "    text = re.sub('[%s]' % re.escape(string.punctuation), ' ', text)\n",
    "    return text\n",
    "\n",
    "yarru_chi_gof = input().split()\n",
    "cleaned_chizi_ke_goft = [word.replace('_', ' ') if '_' in word else word for word in yarru_chi_gof]\n",
    "\n",
    "# print(cleaned_chizi_ke_goft)\n",
    "capitalized_cleaned_chizi_ke_goft = [word.title() for word in cleaned_chizi_ke_goft]\n",
    "# print(capitalized_cleaned_chizi_ke_goft) \n",
    "\n",
    "dict = {'country': set(), 'region':set(), 'climate':set(), 'budget':set(), 'activity': set(), 'demographic': set(),\n",
    "        'duration': set(), 'cuisine': set(), 'history': set(), 'natural_wonder': set(), 'accommodation': set(),\n",
    "        'language': set()}\n",
    "\n",
    "for chiz in capitalized_cleaned_chizi_ke_goft:\n",
    "    chiz = clean_text(chiz)\n",
    "    if list(prolog.query(f\"is_country('{chiz}')\")):\n",
    "        dict['country'].add(chiz)\n",
    "    if list(prolog.query(f\"is_region('{chiz}')\")):\n",
    "        dict['region'].add(chiz)\n",
    "    if list(prolog.query(f\"is_climate('{chiz}')\")):\n",
    "        dict['climate'].add(chiz)\n",
    "    if list(prolog.query(f\"is_budget('{chiz}')\")):\n",
    "        dict['budget'].add(chiz)\n",
    "    if list(prolog.query(f\"is_activity('{chiz}')\")):\n",
    "        dict['activity'].add(chiz)\n",
    "    if list(prolog.query(f\"is_demographic('{chiz}')\")):\n",
    "        dict['demographic'].add(chiz)\n",
    "    if list(prolog.query(f\"is_duration('{chiz}')\")):\n",
    "        dict['duration'].add(chiz)\n",
    "    if list(prolog.query(f\"is_cuisine('{chiz}')\")):\n",
    "        dict['cuisine'].add(chiz)\n",
    "    if list(prolog.query(f\"is_history('{chiz}')\")):\n",
    "        dict['history'].add(chiz)\n",
    "    if list(prolog.query(f\"is_natural_wonder('{chiz}')\")):\n",
    "        dict['natural_wonder'].add(chiz)\n",
    "    if list(prolog.query(f\"is_accommodation('{chiz}')\")):\n",
    "        dict['accommodation'].add(chiz)\n",
    "    if list(prolog.query(f\"is_language('{chiz}')\")):\n",
    "        dict['language'].add(chiz)\n",
    "\n",
    "dict"
   ]
  },
  {
   "cell_type": "code",
   "execution_count": 45,
   "metadata": {
    "collapsed": false,
    "jupyter": {
     "outputs_hidden": false
    },
    "pycharm": {
     "name": "#%%\n"
    }
   },
   "outputs": [
    {
     "data": {
      "text/plain": "['Marseille',\n 'Rome',\n 'Zagreb',\n 'Madrid',\n 'Venice',\n 'Florence',\n 'Lisbon',\n 'Athens']"
     },
     "execution_count": 45,
     "metadata": {},
     "output_type": "execute_result"
    }
   ],
   "source": [
    "keys = list(dict.keys())\n",
    "citys = list(prolog.query(\"my_destination(X)\"))\n",
    "list_of_city = [item['X'] for item in citys]\n",
    "\n",
    "for key in keys:\n",
    "    featured_list = []\n",
    "    if len(dict[key]) == 0:\n",
    "        continue\n",
    "    for value in dict[key]:\n",
    "        featured_list.extend([item['X'] for item in list(prolog.query(f\"{key}(X, '{value}')\"))])\n",
    "    # print(featured_list)\n",
    "    list_of_city = list(set(list_of_city).intersection(featured_list))\n",
    "    # print(list_of_city)\n",
    "\n",
    "list_of_city"
   ]
  },
  {
   "cell_type": "code",
   "execution_count": 46,
   "metadata": {
    "pycharm": {
     "name": "#%%\n"
    }
   },
   "outputs": [],
   "source": [
    "city_first_neighbors = {}\n",
    "city_second_neighbors = {}\n",
    "for city in list_of_city:\n",
    "    city_first_neighbors[city] = ([item['X'] for item in list(prolog.query(f\"connected('{city}', X)\"))])\n",
    "    for second_city in city_first_neighbors[city]:\n",
    "        # print(second_city)\n",
    "        city_second_neighbors[second_city] = [item['X'] for item in list(prolog.query(f\"connected('{second_city}', X)\"))]\n",
    "\n",
    "# print(city_first_neighbors)\n",
    "# print(city_second_neighbors)"
   ]
  },
  {
   "cell_type": "code",
   "execution_count": 47,
   "metadata": {
    "pycharm": {
     "name": "#%%\n"
    }
   },
   "outputs": [
    {
     "name": "stdout",
     "output_type": "stream",
     "text": [
      "['Marseille Yazd Rome', 'Marseille Lyon Zagreb', 'Marseille Venice', 'Rome Yazd Marseille', 'Rome WashingtonD.C. Venice', 'Rome Lisbon', 'Zagreb Lyon Marseille', 'Madrid Islamabad Venice', 'Madrid Islamabad Florence', 'Madrid Tabriz Lisbon', 'Madrid Islamabad Athens', 'Venice Marseille', 'Venice WashingtonD.C. Rome', 'Venice Islamabad Madrid', 'Venice Islamabad Florence', 'Venice Islamabad Athens', 'Florence Islamabad Madrid', 'Florence Islamabad Venice', 'Florence Islamabad Athens', 'Lisbon Rome', 'Lisbon Tabriz Madrid', 'Athens Islamabad Madrid', 'Athens Islamabad Venice', 'Athens Islamabad Florence']\n"
     ]
    }
   ],
   "source": [
    "subpath = []\n",
    "for city1 in range(len(list_of_city)):\n",
    "    for city2 in range(len(list_of_city)):\n",
    "        if city1 != city2:\n",
    "            if list(prolog.query(f\"connected('{list_of_city[city1]}', '{list_of_city[city2]}')\")):\n",
    "                list_of_city[city1] = list_of_city[city1].replace(\" \", \"\")\n",
    "                list_of_city[city2] = list_of_city[city2].replace(\" \", \"\")\n",
    "                path = f\"{list_of_city[city1]} {list_of_city[city2]}\"\n",
    "                subpath.append(path)\n",
    "            elif list(prolog.query(f\"connected2('{list_of_city[city1]}', X, '{list_of_city[city2]}')\")):\n",
    "                for ele in list(prolog.query(f\"connected2('{list_of_city[city1]}', X, '{list_of_city[city2]}')\"))[0].values():\n",
    "                    list_of_city[city1] = list_of_city[city1].replace(\" \", \"\")\n",
    "                    list_of_city[city2] = list_of_city[city2].replace(\" \", \"\")\n",
    "                    ele = ele.replace(\" \", \"\")\n",
    "                    path = f\"{list_of_city[city1]} {ele} {list_of_city[city2]}\"\n",
    "                    subpath.append(path)\n",
    "print(subpath)\n",
    "      "
   ]
  },
  {
   "cell_type": "code",
   "execution_count": 48,
   "metadata": {
    "pycharm": {
     "name": "#%%\n"
    }
   },
   "outputs": [
    {
     "name": "stdout",
     "output_type": "stream",
     "text": [
      "Tours:\n",
      "Marseille -> Yazd -> Rome \n",
      "Marseille -> Lyon -> Zagreb \n",
      "Marseille -> Venice \n",
      "Rome -> Yazd -> Marseille \n",
      "Rome -> Washington D.C. -> Venice \n",
      "Rome -> Lisbon \n",
      "Zagreb -> Lyon -> Marseille \n",
      "Madrid -> Islamabad -> Venice \n",
      "Madrid -> Islamabad -> Florence \n",
      "Madrid -> Tabriz -> Lisbon \n",
      "Madrid -> Islamabad -> Athens \n",
      "Venice -> Marseille \n",
      "Venice -> Washington D.C. -> Rome \n",
      "Venice -> Islamabad -> Madrid \n",
      "Venice -> Islamabad -> Florence \n",
      "Venice -> Islamabad -> Athens \n",
      "Florence -> Islamabad -> Madrid \n",
      "Florence -> Islamabad -> Venice \n",
      "Florence -> Islamabad -> Athens \n",
      "Lisbon -> Rome \n",
      "Lisbon -> Tabriz -> Madrid \n",
      "Athens -> Islamabad -> Madrid \n",
      "Athens -> Islamabad -> Venice \n",
      "Athens -> Islamabad -> Florence \n"
     ]
    }
   ],
   "source": [
    "print(\"Tours:\")\n",
    "for city1 in range(len(list_of_city)):\n",
    "    for city2 in range(len(list_of_city)):\n",
    "        if city1 != city2:\n",
    "            # print(list_of_city[city1], list_of_city[city2])\n",
    "            if  list(prolog.query(f\"connected('{list_of_city[city1]}', '{list_of_city[city2]}')\")):\n",
    "                print(f\"{list_of_city[city1]} -> {list_of_city[city2]}\", end = \" \")\n",
    "                print()\n",
    "            elif list(prolog.query(f\"connected2('{list_of_city[city1]}', X,'{list_of_city[city2]}')\")):\n",
    "                for ele in list(prolog.query(f\"connected2('{list_of_city[city1]}', X,'{list_of_city[city2]}')\"))[0].values():\n",
    "                    print(f\"{list_of_city[city1]} -> {ele} -> {list_of_city[city2]}\", end = \" \")\n",
    "                    print()"
   ]
  },
  {
   "cell_type": "code",
   "execution_count": 49,
   "metadata": {
    "pycharm": {
     "name": "#%%\n"
    }
   },
   "outputs": [
    {
     "name": "stdout",
     "output_type": "stream",
     "text": [
      "current path:  ['Marseille', 'Yazd', 'Rome', 'WashingtonD.C.', 'Venice', 'Islamabad', 'Madrid', 'Tabriz', 'Lisbon']\n",
      "current path:  ['Marseille', 'Yazd', 'Rome', 'WashingtonD.C.', 'Venice', 'Islamabad', 'Madrid', 'Tabriz', 'Lisbon']\n",
      "current path:  ['Marseille', 'Yazd', 'Rome', 'WashingtonD.C.', 'Venice', 'Islamabad', 'Madrid', 'Tabriz', 'Lisbon']\n",
      "current path:  ['Marseille', 'Venice', 'WashingtonD.C.', 'Rome', 'Lisbon', 'Tabriz', 'Madrid', 'Islamabad', 'Florence']\n",
      "current path:  ['Marseille', 'Venice', 'WashingtonD.C.', 'Rome', 'Lisbon', 'Tabriz', 'Madrid', 'Islamabad', 'Florence']\n",
      "current path:  ['Marseille', 'Venice', 'WashingtonD.C.', 'Rome', 'Lisbon', 'Tabriz', 'Madrid', 'Islamabad', 'Florence']\n",
      "current path:  ['Marseille', 'Venice', 'WashingtonD.C.', 'Rome', 'Lisbon', 'Tabriz', 'Madrid', 'Islamabad', 'Florence']\n",
      "current path:  ['Rome', 'Yazd', 'Marseille', 'Lyon', 'Zagreb']\n",
      "current path:  ['Rome', 'WashingtonD.C.', 'Venice', 'Marseille', 'Lyon', 'Zagreb']\n",
      "current path:  ['Rome', 'WashingtonD.C.', 'Venice', 'Marseille', 'Lyon', 'Zagreb']\n",
      "current path:  ['Rome', 'Lisbon', 'Tabriz', 'Madrid', 'Islamabad', 'Venice', 'Marseille', 'Lyon', 'Zagreb']\n",
      "current path:  ['Rome', 'Lisbon', 'Tabriz', 'Madrid', 'Islamabad', 'Venice', 'Marseille', 'Lyon', 'Zagreb']\n",
      "current path:  ['Rome', 'Lisbon', 'Tabriz', 'Madrid', 'Islamabad', 'Venice', 'Marseille', 'Lyon', 'Zagreb']\n",
      "current path:  ['Rome', 'Lisbon', 'Tabriz', 'Madrid', 'Islamabad', 'Venice', 'Marseille', 'Lyon', 'Zagreb']\n",
      "current path:  ['Zagreb', 'Lyon', 'Marseille', 'Yazd', 'Rome', 'WashingtonD.C.', 'Venice', 'Islamabad', 'Madrid', 'Tabriz', 'Lisbon']\n",
      "current path:  ['Zagreb', 'Lyon', 'Marseille', 'Yazd', 'Rome', 'WashingtonD.C.', 'Venice', 'Islamabad', 'Madrid', 'Tabriz', 'Lisbon']\n",
      "current path:  ['Zagreb', 'Lyon', 'Marseille', 'Yazd', 'Rome', 'WashingtonD.C.', 'Venice', 'Islamabad', 'Madrid', 'Tabriz', 'Lisbon']\n",
      "current path:  ['Zagreb', 'Lyon', 'Marseille', 'Yazd', 'Rome', 'WashingtonD.C.', 'Venice', 'Islamabad', 'Madrid', 'Tabriz', 'Lisbon']\n",
      "current path:  ['Madrid', 'Islamabad', 'Venice', 'Marseille', 'Yazd', 'Rome', 'Lisbon']\n",
      "current path:  ['Madrid', 'Islamabad', 'Venice', 'Marseille', 'Yazd', 'Rome', 'Lisbon']\n",
      "current path:  ['Madrid', 'Islamabad', 'Venice', 'Marseille', 'Yazd', 'Rome', 'Lisbon']\n",
      "current path:  ['Madrid', 'Tabriz', 'Lisbon', 'Rome', 'Yazd', 'Marseille', 'Lyon', 'Zagreb']\n",
      "current path:  ['Madrid', 'Tabriz', 'Lisbon', 'Rome', 'Yazd', 'Marseille', 'Lyon', 'Zagreb']\n",
      "current path:  ['Madrid', 'Tabriz', 'Lisbon', 'Rome', 'Yazd', 'Marseille', 'Lyon', 'Zagreb']\n",
      "current path:  ['Venice', 'Marseille', 'Yazd', 'Rome', 'Lisbon', 'Tabriz', 'Madrid', 'Islamabad', 'Florence']\n",
      "current path:  ['Venice', 'Marseille', 'Yazd', 'Rome', 'Lisbon', 'Tabriz', 'Madrid', 'Islamabad', 'Florence']\n",
      "current path:  ['Venice', 'Marseille', 'Yazd', 'Rome', 'Lisbon', 'Tabriz', 'Madrid', 'Islamabad', 'Florence']\n",
      "current path:  ['Venice', 'Marseille', 'Yazd', 'Rome', 'Lisbon', 'Tabriz', 'Madrid', 'Islamabad', 'Florence']\n",
      "current path:  ['Venice', 'WashingtonD.C.', 'Rome', 'Yazd', 'Marseille', 'Lyon', 'Zagreb']\n",
      "current path:  ['Venice', 'WashingtonD.C.', 'Rome', 'Yazd', 'Marseille', 'Lyon', 'Zagreb']\n",
      "current path:  ['Venice', 'Islamabad', 'Madrid', 'Tabriz', 'Lisbon', 'Rome', 'Yazd', 'Marseille', 'Lyon', 'Zagreb']\n",
      "current path:  ['Venice', 'Islamabad', 'Madrid', 'Tabriz', 'Lisbon', 'Rome', 'Yazd', 'Marseille', 'Lyon', 'Zagreb']\n",
      "current path:  ['Venice', 'Islamabad', 'Madrid', 'Tabriz', 'Lisbon', 'Rome', 'Yazd', 'Marseille', 'Lyon', 'Zagreb']\n",
      "current path:  ['Venice', 'Islamabad', 'Madrid', 'Tabriz', 'Lisbon', 'Rome', 'Yazd', 'Marseille', 'Lyon', 'Zagreb']\n",
      "current path:  ['Florence', 'Islamabad', 'Madrid', 'Tabriz', 'Lisbon', 'Rome', 'Yazd', 'Marseille', 'Lyon', 'Zagreb']\n",
      "current path:  ['Florence', 'Islamabad', 'Madrid', 'Tabriz', 'Lisbon', 'Rome', 'Yazd', 'Marseille', 'Lyon', 'Zagreb']\n",
      "current path:  ['Florence', 'Islamabad', 'Madrid', 'Tabriz', 'Lisbon', 'Rome', 'Yazd', 'Marseille', 'Lyon', 'Zagreb']\n",
      "current path:  ['Florence', 'Islamabad', 'Madrid', 'Tabriz', 'Lisbon', 'Rome', 'Yazd', 'Marseille', 'Lyon', 'Zagreb']\n",
      "current path:  ['Florence', 'Islamabad', 'Venice', 'Marseille', 'Yazd', 'Rome', 'Lisbon', 'Tabriz', 'Madrid']\n",
      "current path:  ['Florence', 'Islamabad', 'Venice', 'Marseille', 'Yazd', 'Rome', 'Lisbon', 'Tabriz', 'Madrid']\n",
      "current path:  ['Florence', 'Islamabad', 'Venice', 'Marseille', 'Yazd', 'Rome', 'Lisbon', 'Tabriz', 'Madrid']\n",
      "current path:  ['Florence', 'Islamabad', 'Venice', 'Marseille', 'Yazd', 'Rome', 'Lisbon', 'Tabriz', 'Madrid']\n",
      "current path:  ['Lisbon', 'Rome', 'Yazd', 'Marseille', 'Lyon', 'Zagreb']\n",
      "current path:  ['Lisbon', 'Rome', 'Yazd', 'Marseille', 'Lyon', 'Zagreb']\n",
      "current path:  ['Lisbon', 'Tabriz', 'Madrid', 'Islamabad', 'Venice', 'Marseille', 'Yazd', 'Rome']\n",
      "current path:  ['Lisbon', 'Tabriz', 'Madrid', 'Islamabad', 'Venice', 'Marseille', 'Yazd', 'Rome']\n",
      "current path:  ['Lisbon', 'Tabriz', 'Madrid', 'Islamabad', 'Venice', 'Marseille', 'Yazd', 'Rome']\n",
      "current path:  ['Athens', 'Islamabad', 'Madrid', 'Tabriz', 'Lisbon', 'Rome', 'Yazd', 'Marseille', 'Lyon', 'Zagreb']\n",
      "current path:  ['Athens', 'Islamabad', 'Madrid', 'Tabriz', 'Lisbon', 'Rome', 'Yazd', 'Marseille', 'Lyon', 'Zagreb']\n",
      "current path:  ['Athens', 'Islamabad', 'Madrid', 'Tabriz', 'Lisbon', 'Rome', 'Yazd', 'Marseille', 'Lyon', 'Zagreb']\n",
      "current path:  ['Athens', 'Islamabad', 'Madrid', 'Tabriz', 'Lisbon', 'Rome', 'Yazd', 'Marseille', 'Lyon', 'Zagreb']\n",
      "current path:  ['Athens', 'Islamabad', 'Venice', 'Marseille', 'Yazd', 'Rome', 'Lisbon', 'Tabriz', 'Madrid']\n",
      "current path:  ['Athens', 'Islamabad', 'Venice', 'Marseille', 'Yazd', 'Rome', 'Lisbon', 'Tabriz', 'Madrid']\n",
      "current path:  ['Athens', 'Islamabad', 'Venice', 'Marseille', 'Yazd', 'Rome', 'Lisbon', 'Tabriz', 'Madrid']\n",
      "current path:  ['Athens', 'Islamabad', 'Venice', 'Marseille', 'Yazd', 'Rome', 'Lisbon', 'Tabriz', 'Madrid']\n",
      "['Athens', 'Islamabad', 'Venice', 'Marseille', 'Yazd', 'Rome', 'Lisbon', 'Tabriz', 'Madrid']\n"
     ]
    }
   ],
   "source": [
    "best_path = []\n",
    "def merge_path(subpath: list, current_path: list, list_of_city: list):\n",
    "    # print(\"current path: \", current_path)\n",
    "    # print(\"subpath: \", subpath)\n",
    "    if current_path[-1] == current_path[0]:\n",
    "        del current_path[-1]\n",
    "        if not(current_path[-1] in list_of_city):\n",
    "            del current_path[-1]\n",
    "        # print(current_path)\n",
    "        return None\n",
    "\n",
    "    else:\n",
    "        for i in range(len(subpath)):\n",
    "            lst = subpath[i].split()\n",
    "            new_subpath = []\n",
    "            if current_path[-1] == lst[0]:\n",
    "                loop = False\n",
    "                for k in range(1, len(lst)):\n",
    "                    if lst[k] in current_path:\n",
    "                        loop = True\n",
    "                if not loop:\n",
    "                    for j in range(1, len(lst)):\n",
    "                        current_path.append(lst[j])\n",
    "                    new_subpath = [x for x in subpath if x != subpath[i]]\n",
    "                    merge_path(new_subpath, current_path, list_of_city)\n",
    "                    print(\"current path: \", current_path)\n",
    "                    best_path.append(current_path)\n",
    "\n",
    "# subpath = ['Rome Lisbon', 'Lisbon Rome', 'Lisbon Yazd Venice']\n",
    "# list_of_city = ['Rome', 'Lisbon', 'Venice']\n",
    "if len(list_of_city) == 1:\n",
    "    subpath = list_of_city\n",
    "else:\n",
    "    for i in range(len(subpath)):\n",
    "        current_path = []\n",
    "        lst = subpath[i].split()\n",
    "        for city in lst:\n",
    "            current_path.append(city)\n",
    "        new_list = [x for x in subpath if x != subpath[i]]\n",
    "        merge_path(new_list, current_path, list_of_city)\n",
    "\n",
    "\n",
    "if not best_path:\n",
    "    best_path = subpath\n",
    "\n",
    "\n",
    "dict_max_reward = {}\n",
    "\n",
    "for lst in best_path:\n",
    "    reward = 0\n",
    "    for i in range(len(list_of_city)):\n",
    "        for j in range(len(lst)):\n",
    "            if list_of_city[i] == lst[j]:\n",
    "                reward += 1\n",
    "        \n",
    "    dict_max_reward[reward] = lst\n",
    "\n",
    "# print(dict_max_reward)\n",
    "\n",
    "max_rev = max(dict_max_reward.keys())\n",
    "print(dict_max_reward[max_rev])"
   ]
  },
  {
   "cell_type": "code",
   "execution_count": 49,
   "metadata": {
    "pycharm": {
     "name": "#%%\n"
    }
   },
   "outputs": [],
   "source": []
  }
 ],
 "metadata": {
  "kernelspec": {
   "display_name": "Python 3 (ipykernel)",
   "language": "python",
   "name": "python3"
  },
  "language_info": {
   "codemirror_mode": {
    "name": "ipython",
    "version": 3
   },
   "file_extension": ".py",
   "mimetype": "text/x-python",
   "name": "python",
   "nbconvert_exporter": "python",
   "pygments_lexer": "ipython3",
   "version": "3.12.1"
  }
 },
 "nbformat": 4,
 "nbformat_minor": 4
}