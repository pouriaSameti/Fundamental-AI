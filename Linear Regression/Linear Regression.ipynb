{
 "cells": [
  {
   "cell_type": "code",
   "execution_count": null,
   "metadata": {
    "pycharm": {
     "name": "#%%\n",
     "is_executing": true
    }
   },
   "outputs": [],
   "source": [
    "import numpy as np\n",
    "import pandas as pd"
   ]
  },
  {
   "cell_type": "code",
   "execution_count": 173,
   "metadata": {
    "pycharm": {
     "name": "#%%\n"
    }
   },
   "outputs": [],
   "source": [
    "data_set = pd.read_csv('Flight_Price_Dataset_Q2.csv')\n",
    "X = data_set.drop(columns='price')\n",
    "Y = data_set['price']"
   ]
  },
  {
   "cell_type": "code",
   "execution_count": 174,
   "metadata": {
    "pycharm": {
     "name": "#%%\n"
    }
   },
   "outputs": [],
   "source": [
    "#Data Splitting\n",
    "from sklearn.model_selection import train_test_split\n",
    "x_train, x_test, y_train, y_test = train_test_split(X, Y, test_size=0.2, random_state=42)"
   ]
  },
  {
   "cell_type": "code",
   "execution_count": 175,
   "metadata": {
    "pycharm": {
     "name": "#%%\n"
    }
   },
   "outputs": [
    {
     "data": {
      "text/plain": "departure_time    0\nstops             0\narrival_time      0\nclass             0\nduration          0\ndays_left         0\nprice             0\ndtype: int64"
     },
     "execution_count": 175,
     "metadata": {},
     "output_type": "execute_result"
    }
   ],
   "source": [
    "#Data Filling\n",
    "data_set.isnull().sum()"
   ]
  },
  {
   "cell_type": "code",
   "execution_count": 177,
   "outputs": [],
   "source": [
    "#Data Encoding\n",
    "\n",
    "x_train['departure_time_encoded'] = x_train['departure_time'].map({'Early_Morning': 1, 'Morning': 2, 'Afternoon': 3, 'Evening': 4, 'Night': 5, 'Late_Night': 6})\n",
    "x_test['departure_time_encoded'] = x_test['departure_time'].map({'Early_Morning': 1, 'Morning': 2, 'Afternoon': 3, 'Evening': 4, 'Night': 5, 'Late_Night': 6})\n",
    "\n",
    "x_train['arrival_time_encoded'] = x_train['arrival_time'].map({'Early_Morning': 1, 'Morning': 2, 'Afternoon': 3, 'Evening': 4, 'Night': 5, 'Late_Night': 6})\n",
    "x_test['arrival_time_encoded'] = x_test['arrival_time'].map({'Early_Morning': 1, 'Morning': 2, 'Afternoon': 3, 'Evening': 4, 'Night': 5, 'Late_Night': 6})\n",
    "\n",
    "x_train['stops_encoded'] = x_train['stops'].map({'zero': 1, 'one': 2, 'two_or_more': 3})\n",
    "x_test['stops_encoded'] = x_test['stops'].map({'zero': 1, 'one': 2, 'two_or_more': 3})\n",
    "\n",
    "x_train['class_encoded'] = x_train['class'].map({'Economy': 1, 'Business': 2})\n",
    "x_test['class_encoded'] = x_test['class'].map({'Economy': 1, 'Business': 2})\n",
    "\n",
    "\n",
    "x_train = x_train.drop(columns=['departure_time', 'arrival_time', 'stops', 'class'])\n",
    "x_test = x_test.drop(columns=['departure_time', 'arrival_time', 'stops', 'class'])"
   ],
   "metadata": {
    "collapsed": false,
    "pycharm": {
     "name": "#%%\n"
    }
   }
  },
  {
   "cell_type": "code",
   "execution_count": null,
   "outputs": [],
   "source": [
    "import seaborn as sns\n",
    "import matplotlib.pyplot as plt\n",
    "\n",
    "train_data = pd.concat([x_train, y_train], axis=1)\n",
    "\n",
    "plt.figure(figsize=(len(train_data.columns), len(train_data.columns)), facecolor='w', edgecolor='k')\n",
    "sns.set(font_scale=0.7)\n",
    "sns.heatmap(train_data.corr(),\n",
    "            annot=True,\n",
    "            fmt='.5g',\n",
    "            linewidths=2,\n",
    "            linecolor='black')\n",
    "plt.xlabel('Variable 2',fontsize=10)\n",
    "plt.ylabel('Variable 1',fontsize=10)"
   ],
   "metadata": {
    "collapsed": false,
    "pycharm": {
     "name": "#%%\n",
     "is_executing": true
    }
   }
  },
  {
   "cell_type": "code",
   "execution_count": 179,
   "outputs": [],
   "source": [
    "#Feature Scaling\n",
    "from sklearn.preprocessing import StandardScaler\n",
    "\n",
    "scaler = StandardScaler()\n",
    "x_train = pd.DataFrame(scaler.fit_transform(x_train), columns=x_train.columns, index=x_train.index)\n",
    "x_test = pd.DataFrame(scaler.fit_transform(x_test), columns=x_test.columns, index=x_test.index)"
   ],
   "metadata": {
    "collapsed": false,
    "pycharm": {
     "name": "#%%\n"
    }
   }
  },
  {
   "cell_type": "code",
   "execution_count": 180,
   "outputs": [],
   "source": [
    "from sklearn.metrics import mean_squared_error , r2_score\n",
    "import time\n",
    "\n",
    "class Regression:\n",
    "    def __init__(self):\n",
    "        self.mse_g = None\n",
    "        self.r2_g = None\n",
    "        self.weight = None\n",
    "\n",
    "    def fit(self, x:pd.DataFrame, y:pd.DataFrame, epoch:int, learning_rate: int):\n",
    "        m = len(x)\n",
    "        if x.iloc[0, 0] != 1:\n",
    "            x.insert(0, 'bias', 1)\n",
    "\n",
    "        self.mse_g = np.ones(epoch)\n",
    "        self.r2_g = np.ones(epoch)\n",
    "        self.weight = np.ones(len(x_train.columns))\n",
    "\n",
    "        start_time = time.time()\n",
    "        for i in range(epoch):\n",
    "            gradient = 2/m * x.T.dot(self.predict(x) - y)\n",
    "            self.weight = self.weight - learning_rate * gradient\n",
    "            self.mse_g[i] = mean_squared_error(y, self.predict(x))\n",
    "            self.r2_g[i] = r2_score(y, self.predict(x))\n",
    "        print (\"My program took\", time.time() - start_time, \"to run\")\n",
    "\n",
    "    def predict(self, df:pd.DataFrame):\n",
    "        if df.iloc[0, 0] != 1:\n",
    "            df.insert(0, 'bias', 1)\n",
    "        return np.dot(df, self.weight)"
   ],
   "metadata": {
    "collapsed": false,
    "pycharm": {
     "name": "#%%\n"
    }
   }
  },
  {
   "cell_type": "code",
   "execution_count": 181,
   "outputs": [
    {
     "name": "stdout",
     "output_type": "stream",
     "text": [
      "My program took 10.548084020614624 to run\n"
     ]
    },
    {
     "data": {
      "text/plain": "bias                            20893.435149\nduration                          203.894209\ndays_left                       -1786.876342\ndeparture_time_Afternoon         -291.210102\ndeparture_time_Early_Morning       10.978843\ndeparture_time_Evening             46.272341\ndeparture_time_Late_Night          34.418284\ndeparture_time_Morning            126.646717\ndeparture_time_Night               78.530530\nstops_one                         973.203188\nstops_two_or_more                1048.841338\nstops_zero                      -1767.036396\narrival_time_Afternoon           -333.339462\narrival_time_Early_Morning       -377.794000\narrival_time_Evening              288.496408\narrival_time_Late_Night          -149.338212\narrival_time_Morning              -32.208667\narrival_time_Night                248.715459\nclass_Business                  10521.165943\nclass_Economy                  -10519.165943\ndtype: float64"
     },
     "execution_count": 181,
     "metadata": {},
     "output_type": "execute_result"
    }
   ],
   "source": [
    "reg = Regression()\n",
    "\n",
    "epochs = 200\n",
    "reg.fit(x_train, y_train, epochs, 0.1)\n",
    "reg.weight"
   ],
   "metadata": {
    "collapsed": false,
    "pycharm": {
     "name": "#%%\n"
    }
   }
  },
  {
   "cell_type": "code",
   "execution_count": 182,
   "outputs": [
    {
     "data": {
      "text/plain": "<Figure size 432x288 with 1 Axes>",
      "image/png": "[encoded data removed]"
     },
     "metadata": {},
     "output_type": "display_data"
    }
   ],
   "source": [
    "#mse plot\n",
    "import matplotlib.pyplot as plt\n",
    "\n",
    "plt.plot(range(epochs), reg.mse_g, 'g', label='mse')\n",
    "plt.title('Mean Square Error Evolution')\n",
    "plt.xlabel('Epochs')\n",
    "plt.ylabel('mse')\n",
    "plt.legend()\n",
    "plt.show()"
   ],
   "metadata": {
    "collapsed": false,
    "pycharm": {
     "name": "#%%\n"
    }
   }
  },
  {
   "cell_type": "code",
   "execution_count": 183,
   "outputs": [
    {
     "data": {
      "text/plain": "<Figure size 432x288 with 1 Axes>",
      "image/png": "[encoded data removed]"
     },
     "metadata": {},
     "output_type": "display_data"
    }
   ],
   "source": [
    "#R2 plot\n",
    "plt.plot(range(epochs), reg.r2_g, 'g', label='R2')\n",
    "plt.title('R2 Score Evolution')\n",
    "plt.xlabel('Epochs')\n",
    "plt.ylabel('R2')\n",
    "plt.legend()\n",
    "plt.show()"
   ],
   "metadata": {
    "collapsed": false,
    "pycharm": {
     "name": "#%%\n"
    }
   }
  },
  {
   "cell_type": "code",
   "execution_count": 184,
   "outputs": [
    {
     "data": {
      "text/plain": "             Value\nMAE   4.653164e+03\nMSE   4.969114e+07\nRMSE  7.049195e+03\nR2    9.037248e-01",
      "text/html": "<div>\n<style scoped>\n    .dataframe tbody tr th:only-of-type {\n        vertical-align: middle;\n    }\n\n    .dataframe tbody tr th {\n        vertical-align: top;\n    }\n\n    .dataframe thead th {\n        text-align: right;\n    }\n</style>\n<table border=\"1\" class=\"dataframe\">\n  <thead>\n    <tr style=\"text-align: right;\">\n      <th></th>\n      <th>Value</th>\n    </tr>\n  </thead>\n  <tbody>\n    <tr>\n      <th>MAE</th>\n      <td>4.653164e+03</td>\n    </tr>\n    <tr>\n      <th>MSE</th>\n      <td>4.969114e+07</td>\n    </tr>\n    <tr>\n      <th>RMSE</th>\n      <td>7.049195e+03</td>\n    </tr>\n    <tr>\n      <th>R2</th>\n      <td>9.037248e-01</td>\n    </tr>\n  </tbody>\n</table>\n</div>"
     },
     "execution_count": 184,
     "metadata": {},
     "output_type": "execute_result"
    }
   ],
   "source": [
    "#Evaluating Model\n",
    "from sklearn.metrics import mean_absolute_error, mean_squared_error\n",
    "y_pred_test = reg.predict(x_test)\n",
    "\n",
    "mae_test = mean_absolute_error(y_test, y_pred_test)\n",
    "mse_test = mean_squared_error(y_test, y_pred_test)\n",
    "rmse_test = np.sqrt(mse_test)\n",
    "r2_test = r2_score(y_test, y_pred_test)\n",
    "\n",
    "ev_tabel = pd.DataFrame({'Value': [mae_test, mse_test, rmse_test, r2_test]}, index=['MAE', 'MSE', 'RMSE', 'R2'])\n",
    "ev_tabel"
   ],
   "metadata": {
    "collapsed": false,
    "pycharm": {
     "name": "#%%\n"
    }
   }
  },
  {
   "cell_type": "code",
   "execution_count": 124,
   "metadata": {
    "collapsed": false,
    "pycharm": {
     "name": "#%%\n"
    }
   },
   "outputs": [
    {
     "data": {
      "text/html": [
       "<div>\n",
       "<style scoped>\n",
       "    .dataframe tbody tr th:only-of-type {\n",
       "        vertical-align: middle;\n",
       "    }\n",
       "\n",
       "    .dataframe tbody tr th {\n",
       "        vertical-align: top;\n",
       "    }\n",
       "\n",
       "    .dataframe thead th {\n",
       "        text-align: right;\n",
       "    }\n",
       "</style>\n",
       "<table border=\"1\" class=\"dataframe\">\n",
       "  <thead>\n",
       "    <tr style=\"text-align: right;\">\n",
       "      <th></th>\n",
       "      <th>Value</th>\n",
       "    </tr>\n",
       "  </thead>\n",
       "  <tbody>\n",
       "    <tr>\n",
       "      <th>MAE</th>\n",
       "      <td>4.676668e+03</td>\n",
       "    </tr>\n",
       "    <tr>\n",
       "      <th>MSE</th>\n",
       "      <td>5.020320e+07</td>\n",
       "    </tr>\n",
       "    <tr>\n",
       "      <th>RMSE</th>\n",
       "      <td>7.085421e+03</td>\n",
       "    </tr>\n",
       "    <tr>\n",
       "      <th>R2</th>\n",
       "      <td>9.018331e-01</td>\n",
       "    </tr>\n",
       "  </tbody>\n",
       "</table>\n",
       "</div>"
      ],
      "text/plain": [
       "             Value\n",
       "MAE   4.676668e+03\n",
       "MSE   5.020320e+07\n",
       "RMSE  7.085421e+03\n",
       "R2    9.018331e-01"
      ]
     },
     "execution_count": 124,
     "metadata": {},
     "output_type": "execute_result"
    }
   ],
   "source": [
    "#Evaluating Model\n",
    "from sklearn.metrics import mean_absolute_error, mean_squared_error\n",
    "y_pred_test = reg.predict(x_test)\n",
    "\n",
    "mae_test = mean_absolute_error(y_test, y_pred_test)\n",
    "mse_test = mean_squared_error(y_test, y_pred_test)\n",
    "rmse_test = np.sqrt(mse_test)\n",
    "r2_test = r2_score(y_test, y_pred_test)\n",
    "\n",
    "ev_tabel = pd.DataFrame({'Value': [mae_test, mse_test, rmse_test, r2_test]}, index=['MAE', 'MSE', 'RMSE', 'R2'])\n",
    "ev_tabel"
   ]
  },
  {
   "cell_type": "code",
   "execution_count": null,
   "metadata": {
    "collapsed": false,
    "pycharm": {
     "name": "#%%\n"
    }
   },
   "outputs": [],
   "source": []
  }
 ],
 "metadata": {
  "kernelspec": {
   "display_name": "Python 3",
   "language": "python",
   "name": "python3"
  },
  "language_info": {
   "codemirror_mode": {
    "name": "ipython",
    "version": 3
   },
   "file_extension": ".py",
   "mimetype": "text/x-python",
   "name": "python",
   "nbconvert_exporter": "python",
   "pygments_lexer": "ipython3",
   "version": "3.11.1"
  }
 },
 "nbformat": 4,
 "nbformat_minor": 2
}