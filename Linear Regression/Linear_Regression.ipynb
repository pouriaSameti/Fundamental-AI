{
 "cells": [
  {
   "cell_type": "code",
   "execution_count": 1,
   "metadata": {},
   "outputs": [],
   "source": [
    "import numpy as np\n",
    "import pandas as pd"
   ]
  },
  {
   "cell_type": "code",
   "execution_count": 3,
   "metadata": {},
   "outputs": [],
   "source": [
    "data_set = pd.read_csv('Flight_Price_Dataset_Q2.csv')\n",
    "X = data_set.drop(columns='price')\n",
    "Y = data_set['price']"
   ]
  },
  {
   "cell_type": "code",
   "execution_count": 4,
   "metadata": {},
   "outputs": [],
   "source": [
    "#Data Splitting\n",
    "from sklearn.model_selection import train_test_split\n",
    "x_train, x_test, y_train, y_test = train_test_split(X, Y, test_size=0.2)"
   ]
  },
  {
   "cell_type": "code",
   "execution_count": 5,
   "metadata": {},
   "outputs": [
    {
     "data": {
      "text/plain": [
       "departure_time    0\n",
       "stops             0\n",
       "arrival_time      0\n",
       "class             0\n",
       "duration          0\n",
       "days_left         0\n",
       "price             0\n",
       "dtype: int64"
      ]
     },
     "execution_count": 5,
     "metadata": {},
     "output_type": "execute_result"
    }
   ],
   "source": [
    "#Data Filling\n",
    "data_set.isnull().sum()"
   ]
  },
  {
   "cell_type": "code",
   "execution_count": 6,
   "metadata": {},
   "outputs": [],
   "source": [
    "#Data Encoding\n",
    "\n",
    "x_train['departure_time_encoded'] = x_train['departure_time'].map({'Early_Morning': 1, 'Morning': 2, 'Afternoon': 3, 'Evening': 4, 'Night': 5, 'Late_Night': 6})\n",
    "x_test['departure_time_encoded'] = x_test['departure_time'].map({'Early_Morning': 1, 'Morning': 2, 'Afternoon': 3, 'Evening': 4, 'Night': 5, 'Late_Night': 6})\n",
    "\n",
    "x_train['arrival_time_encoded'] = x_train['arrival_time'].map({'Early_Morning': 1, 'Morning': 2, 'Afternoon': 3, 'Evening': 4, 'Night': 5, 'Late_Night': 6})\n",
    "x_test['arrival_time_encoded'] = x_test['arrival_time'].map({'Early_Morning': 1, 'Morning': 2, 'Afternoon': 3, 'Evening': 4, 'Night': 5, 'Late_Night': 6})\n",
    "\n",
    "x_train['stops_encoded'] = x_train['stops'].map({'zero': 1, 'one': 2, 'two_or_more': 3})\n",
    "x_test['stops_encoded'] = x_test['stops'].map({'zero': 1, 'one': 2, 'two_or_more': 3})\n",
    "\n",
    "x_train['class_encoded'] = x_train['class'].map({'Economy': 1, 'Business': 2})\n",
    "x_test['class_encoded'] = x_test['class'].map({'Economy': 1, 'Business': 2})\n",
    "\n",
    "\n",
    "x_train = x_train.drop(columns=['departure_time', 'arrival_time', 'stops', 'class'])\n",
    "x_test = x_test.drop(columns=['departure_time', 'arrival_time', 'stops', 'class'])"
   ]
  },
  {
   "cell_type": "code",
   "execution_count": 7,
   "metadata": {},
   "outputs": [],
   "source": [
    "#Feature Scaling\n",
    "def normalization(data:pd.DataFrame):\n",
    "    for col in data.columns:\n",
    "        min_value = data[col].min()\n",
    "        max_value = data[col].max()\n",
    "        norm = lambda x : (x - min_value)/(max_value - min_value)\n",
    "        data[col] = data[col].map(norm)\n",
    "    return data\n",
    "\n",
    "x_train = normalization(x_train)\n",
    "x_test = normalization(x_test)"
   ]
  },
  {
   "cell_type": "code",
   "execution_count": 54,
   "metadata": {},
   "outputs": [],
   "source": [
    "from sklearn.metrics import mean_squared_error , r2_score\n",
    "import time\n",
    "class Regression:\n",
    "    def __init__(self, data:pd.DataFrame):\n",
    "        self.mse_g = np.ones(200)\n",
    "        self.r2_g = np.ones(200)\n",
    "        if data.iloc[0, 0] != 1:\n",
    "            self.weight = np.ones(len(data.columns)+1)\n",
    "        else:\n",
    "            self.weight = np.ones(len(data.columns))\n",
    "\n",
    "    def fit(self, x:pd.DataFrame, y:pd.DataFrame, epoch:int):\n",
    "        m = len(x)\n",
    "        if x.iloc[0, 0] != 1:\n",
    "            x.insert(0, 'bias', 1)\n",
    "        start_time = time.time()\n",
    "        for i in range(epoch):\n",
    "            gradient = 2/m * x.T.dot(self.predict(x) - y)\n",
    "            learning_rate = (epoch / 10) / (i + epoch)\n",
    "            self.weight = self.weight - learning_rate * gradient\n",
    "            self.mse_g[i] = mean_squared_error(y, self.predict(x))\n",
    "            self.r2_g[i] = r2_score(y, self.predict(x))\n",
    "        print (\"My program took\", time.time() - start_time, \"to run\")\n",
    "\n",
    "    def predict(self, df:pd.DataFrame):\n",
    "        if df.iloc[0, 0] != 1:\n",
    "            df.insert(0, 'bias', 1)\n",
    "        return np.dot(df, self.weight)"
   ]
  },
  {
   "cell_type": "code",
   "execution_count": 55,
   "metadata": {},
   "outputs": [],
   "source": [
    "reg = Regression(x_train)\n",
    "\n",
    "reg.fit(x_train, y_train, 200)\n",
    "reg.weight"
   ]
  },
  {
   "cell_type": "code",
   "execution_count": 35,
   "metadata": {},
   "outputs": [
    {
     "data": {
      "text/plain": [
       "51976837.864662565"
      ]
     },
     "execution_count": 35,
     "metadata": {},
     "output_type": "execute_result"
    }
   ],
   "source": [
    "#mean square error\n",
    "y_pred_test = reg.predict(x_test)\n",
    "mse_test = mean_squared_error(y_test, y_pred_test)\n",
    "mse_test"
   ]
  },
  {
   "cell_type": "code",
   "execution_count": 36,
   "metadata": {},
   "outputs": [
    {
     "data": {
      "image/png": "[encoded data removed]",
      "text/plain": [
       "<Figure size 640x480 with 1 Axes>"
      ]
     },
     "metadata": {},
     "output_type": "display_data"
    }
   ],
   "source": [
    "#mse plot\n",
    "import matplotlib.pyplot as plt\n",
    "\n",
    "epochs = range(200)\n",
    "plt.plot(epochs, reg.mse_g, 'g', label='mse')\n",
    "plt.title('Mean Square Error Evolution')\n",
    "plt.xlabel('Epochs')\n",
    "plt.ylabel('mse')\n",
    "plt.legend()\n",
    "plt.show()"
   ]
  },
  {
   "cell_type": "code",
   "execution_count": 37,
   "metadata": {},
   "outputs": [
    {
     "data": {
      "text/plain": [
       "0.8993637464741879"
      ]
     },
     "execution_count": 37,
     "metadata": {},
     "output_type": "execute_result"
    }
   ],
   "source": [
    "#R2 Error\n",
    "from sklearn.metrics import  r2_score\n",
    "y_pred_test = reg.predict(x_test)\n",
    "r2_test = r2_score(y_test, y_pred_test)\n",
    "r2_test"
   ]
  },
  {
   "cell_type": "code",
   "execution_count": 38,
   "metadata": {},
   "outputs": [
    {
     "data": {
      "image/png": "[encoded data removed]",
      "text/plain": [
       "<Figure size 640x480 with 1 Axes>"
      ]
     },
     "metadata": {},
     "output_type": "display_data"
    }
   ],
   "source": [
    "#R2 plot\n",
    "epochs = range(200)\n",
    "plt.plot(epochs, reg.r2_g, 'g', label='R2')\n",
    "plt.title('R2 Score Evolution')\n",
    "plt.xlabel('Epochs')\n",
    "plt.ylabel('R2')\n",
    "plt.legend()\n",
    "plt.show()"
   ]
  },
  {
   "cell_type": "code",
   "execution_count": 40,
   "metadata": {},
   "outputs": [
    {
     "data": {
      "text/plain": [
       "7209.496366922072"
      ]
     },
     "execution_count": 40,
     "metadata": {},
     "output_type": "execute_result"
    }
   ],
   "source": [
    "#RMSE\n",
    "rmse_test = np.sqrt(mse_test)\n",
    "rmse_test"
   ]
  },
  {
   "cell_type": "code",
   "execution_count": 41,
   "metadata": {},
   "outputs": [
    {
     "data": {
      "text/plain": [
       "4509.218840956489"
      ]
     },
     "execution_count": 41,
     "metadata": {},
     "output_type": "execute_result"
    }
   ],
   "source": [
    "#MAE\n",
    "from sklearn.metrics import mean_absolute_error\n",
    "mae_test = mean_absolute_error(y_test, y_pred_test)\n",
    "mae_test"
   ]
  },
  {
   "cell_type": "code",
   "execution_count": null,
   "metadata": {},
   "outputs": [],
   "source": []
  }
 ],
 "metadata": {
  "kernelspec": {
   "display_name": "Python 3",
   "language": "python",
   "name": "python3"
  },
  "language_info": {
   "codemirror_mode": {
    "name": "ipython",
    "version": 3
   },
   "file_extension": ".py",
   "mimetype": "text/x-python",
   "name": "python",
   "nbconvert_exporter": "python",
   "pygments_lexer": "ipython3",
   "version": "3.11.1"
  }
 },
 "nbformat": 4,
 "nbformat_minor": 2
}
