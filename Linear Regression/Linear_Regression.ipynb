{
 "cells": [
  {
   "cell_type": "code",
   "execution_count": 1,
   "metadata": {},
   "outputs": [],
   "source": [
    "import numpy as np\n",
    "import pandas as pd"
   ]
  },
  {
   "cell_type": "code",
   "execution_count": 3,
   "metadata": {},
   "outputs": [],
   "source": [
    "data_set = pd.read_csv('Flight_Price_Dataset_Q2.csv')\n",
    "X = data_set.drop(columns='price')\n",
    "Y = data_set['price']"
   ]
  },
  {
   "cell_type": "code",
   "execution_count": 4,
   "metadata": {},
   "outputs": [],
   "source": [
    "#Data Splitting\n",
    "from sklearn.model_selection import train_test_split\n",
    "x_train, x_test, y_train, y_test = train_test_split(X, Y, test_size=0.2)"
   ]
  },
  {
   "cell_type": "code",
   "execution_count": 5,
   "metadata": {},
   "outputs": [
    {
     "data": {
      "text/plain": [
       "departure_time    0\n",
       "stops             0\n",
       "arrival_time      0\n",
       "class             0\n",
       "duration          0\n",
       "days_left         0\n",
       "price             0\n",
       "dtype: int64"
      ]
     },
     "execution_count": 5,
     "metadata": {},
     "output_type": "execute_result"
    }
   ],
   "source": [
    "#Data Filling\n",
    "data_set.isnull().sum()"
   ]
  },
  {
   "cell_type": "code",
   "execution_count": 6,
   "metadata": {},
   "outputs": [],
   "source": [
    "#Data Encoding\n",
    "\n",
    "x_train['departure_time_encoded'] = x_train['departure_time'].map({'Early_Morning': 1, 'Morning': 2, 'Afternoon': 3, 'Evening': 4, 'Night': 5, 'Late_Night': 6})\n",
    "x_test['departure_time_encoded'] = x_test['departure_time'].map({'Early_Morning': 1, 'Morning': 2, 'Afternoon': 3, 'Evening': 4, 'Night': 5, 'Late_Night': 6})\n",
    "\n",
    "x_train['arrival_time_encoded'] = x_train['arrival_time'].map({'Early_Morning': 1, 'Morning': 2, 'Afternoon': 3, 'Evening': 4, 'Night': 5, 'Late_Night': 6})\n",
    "x_test['arrival_time_encoded'] = x_test['arrival_time'].map({'Early_Morning': 1, 'Morning': 2, 'Afternoon': 3, 'Evening': 4, 'Night': 5, 'Late_Night': 6})\n",
    "\n",
    "x_train['stops_encoded'] = x_train['stops'].map({'zero': 1, 'one': 2, 'two_or_more': 3})\n",
    "x_test['stops_encoded'] = x_test['stops'].map({'zero': 1, 'one': 2, 'two_or_more': 3})\n",
    "\n",
    "x_train['class_encoded'] = x_train['class'].map({'Economy': 1, 'Business': 2})\n",
    "x_test['class_encoded'] = x_test['class'].map({'Economy': 1, 'Business': 2})\n",
    "\n",
    "\n",
    "x_train = x_train.drop(columns=['departure_time', 'arrival_time', 'stops', 'class'])\n",
    "x_test = x_test.drop(columns=['departure_time', 'arrival_time', 'stops', 'class'])"
   ]
  },
  {
   "cell_type": "code",
   "execution_count": 7,
   "metadata": {},
   "outputs": [],
   "source": [
    "#Feature Scaling\n",
    "def normalization(data:pd.DataFrame):\n",
    "    for col in data.columns:\n",
    "        min_value = data[col].min()\n",
    "        max_value = data[col].max()\n",
    "        norm = lambda x : (x - min_value)/(max_value - min_value)\n",
    "        data[col] = data[col].map(norm)\n",
    "    return data\n",
    "\n",
    "x_train = normalization(x_train)\n",
    "x_test = normalization(x_test)"
   ]
  },
  {
   "cell_type": "code",
   "execution_count": 33,
   "metadata": {},
   "outputs": [],
   "source": [
    "from sklearn.metrics import mean_squared_error , r2_score\n",
    "class Regression:\n",
    "    def __init__(self, data:pd.DataFrame):\n",
    "        self.mse_g = list()\n",
    "        self.r2_g = list()\n",
    "        if data.iloc[0, 0] != 1:\n",
    "            self.weight = np.ones(len(data.columns)+1)\n",
    "        else:\n",
    "            self.weight = np.ones(len(data.columns))\n",
    "\n",
    "    def fit(self, x:pd.DataFrame, y:pd.DataFrame, epoch:int):\n",
    "        m = len(x)\n",
    "        if x.iloc[0, 0] != 1:\n",
    "            x.insert(0, 'bias', 1)\n",
    "        for i in range(epoch):\n",
    "            gradient = 2/m * x.T.dot(self.predict(x) - y)\n",
    "            learning_rate = (epoch / 10) / (i + epoch)\n",
    "            self.weight = self.weight - learning_rate * gradient\n",
    "            self.mse_g.append(mean_squared_error(y, self.predict(x)))\n",
    "            self.r2_g.append(r2_score(y, self.predict(x)))\n",
    "\n",
    "    def predict(self, df:pd.DataFrame):\n",
    "        if df.iloc[0, 0] != 1:\n",
    "            df.insert(0, 'bias', 1)\n",
    "        return np.dot(df, self.weight)"
   ]
  },
  {
   "cell_type": "code",
   "execution_count": 34,
   "metadata": {},
   "outputs": [
    {
     "data": {
      "text/plain": [
       "bias                       4076.769731\n",
       "duration                   4956.421823\n",
       "days_left                 -5721.491200\n",
       "departure_time_encoded     -356.672306\n",
       "arrival_time_encoded       1415.017409\n",
       "stops_encoded              8334.835238\n",
       "class_encoded             45576.293748\n",
       "dtype: float64"
      ]
     },
     "execution_count": 34,
     "metadata": {},
     "output_type": "execute_result"
    }
   ],
   "source": [
    "reg = Regression(x_train)\n",
    "\n",
    "reg.fit(x_train, y_train, 200)\n",
    "reg.weight"
   ]
  },
  {
   "cell_type": "code",
   "execution_count": null,
   "metadata": {},
   "outputs": [],
   "source": []
  }
 ],
 "metadata": {
  "kernelspec": {
   "display_name": "Python 3",
   "language": "python",
   "name": "python3"
  },
  "language_info": {
   "codemirror_mode": {
    "name": "ipython",
    "version": 3
   },
   "file_extension": ".py",
   "mimetype": "text/x-python",
   "name": "python",
   "nbconvert_exporter": "python",
   "pygments_lexer": "ipython3",
   "version": "3.11.1"
  }
 },
 "nbformat": 4,
 "nbformat_minor": 2
}
