{
 "cells": [
  {
   "cell_type": "code",
   "execution_count": 167,
   "metadata": {
    "pycharm": {
     "name": "#%%\n"
    }
   },
   "outputs": [],
   "source": [
    "import numpy as np\n",
    "import pandas as pd"
   ]
  },
  {
   "cell_type": "code",
   "execution_count": 168,
   "metadata": {
    "pycharm": {
     "name": "#%%\n"
    }
   },
   "outputs": [],
   "source": [
    "data_set = pd.read_csv('Flight_Price_Dataset_Q2.csv')\n",
    "X = data_set.drop(columns='price')\n",
    "Y = data_set['price']"
   ]
  },
  {
   "cell_type": "code",
   "execution_count": 169,
   "metadata": {
    "pycharm": {
     "name": "#%%\n"
    }
   },
   "outputs": [],
   "source": [
    "#Data Splitting\n",
    "from sklearn.model_selection import train_test_split\n",
    "x_train, x_test, y_train, y_test = train_test_split(X, Y, test_size=0.2)"
   ]
  },
  {
   "cell_type": "code",
   "execution_count": 170,
   "metadata": {
    "pycharm": {
     "name": "#%%\n"
    }
   },
   "outputs": [
    {
     "data": {
      "text/plain": "departure_time    0\nstops             0\narrival_time      0\nclass             0\nduration          0\ndays_left         0\nprice             0\ndtype: int64"
     },
     "execution_count": 170,
     "metadata": {},
     "output_type": "execute_result"
    }
   ],
   "source": [
    "#Data Filling\n",
    "data_set.isnull().sum()"
   ]
  },
  {
   "cell_type": "code",
   "execution_count": 171,
   "metadata": {
    "pycharm": {
     "name": "#%%\n"
    }
   },
   "outputs": [],
   "source": [
    "#Data Encoding\n",
    "\n",
    "x_train['departure_time_encoded'] = x_train['departure_time'].map({'Early_Morning': 1, 'Morning': 2, 'Afternoon': 3, 'Evening': 4, 'Night': 5, 'Late_Night': 6})\n",
    "x_test['departure_time_encoded'] = x_test['departure_time'].map({'Early_Morning': 1, 'Morning': 2, 'Afternoon': 3, 'Evening': 4, 'Night': 5, 'Late_Night': 6})\n",
    "\n",
    "x_train['arrival_time_encoded'] = x_train['arrival_time'].map({'Early_Morning': 1, 'Morning': 2, 'Afternoon': 3, 'Evening': 4, 'Night': 5, 'Late_Night': 6})\n",
    "x_test['arrival_time_encoded'] = x_test['arrival_time'].map({'Early_Morning': 1, 'Morning': 2, 'Afternoon': 3, 'Evening': 4, 'Night': 5, 'Late_Night': 6})\n",
    "\n",
    "x_train['stops_encoded'] = x_train['stops'].map({'zero': 1, 'one': 2, 'two_or_more': 3})\n",
    "x_test['stops_encoded'] = x_test['stops'].map({'zero': 1, 'one': 2, 'two_or_more': 3})\n",
    "\n",
    "x_train['class_encoded'] = x_train['class'].map({'Economy': 1, 'Business': 2})\n",
    "x_test['class_encoded'] = x_test['class'].map({'Economy': 1, 'Business': 2})\n",
    "\n",
    "\n",
    "x_train = x_train.drop(columns=['departure_time', 'arrival_time', 'stops', 'class'])\n",
    "x_test = x_test.drop(columns=['departure_time', 'arrival_time', 'stops', 'class'])"
   ]
  },
  {
   "cell_type": "code",
   "execution_count": 172,
   "outputs": [
    {
     "data": {
      "text/plain": "        duration  days_left  departure_time_encoded  arrival_time_encoded  \\\n136430     11.42         38                       5                     1   \n244582     15.75         33                       1                     5   \n154619      6.25         12                       2                     4   \n91350      16.25         42                       3                     1   \n199745      5.58          2                       3                     4   \n...          ...        ...                     ...                   ...   \n143312     26.58          7                       5                     5   \n47289      27.33         48                       2                     3   \n206847     23.08         48                       4                     4   \n104273     11.42          5                       2                     4   \n14187       6.92         29                       3                     5   \n\n        stops_encoded  class_encoded  \n136430              2              1  \n244582              2              2  \n154619              2              1  \n91350               2              1  \n199745              2              2  \n...               ...            ...  \n143312              2              1  \n47289               2              1  \n206847              2              2  \n104273              2              1  \n14187               2              1  \n\n[216110 rows x 6 columns]",
      "text/html": "<div>\n<style scoped>\n    .dataframe tbody tr th:only-of-type {\n        vertical-align: middle;\n    }\n\n    .dataframe tbody tr th {\n        vertical-align: top;\n    }\n\n    .dataframe thead th {\n        text-align: right;\n    }\n</style>\n<table border=\"1\" class=\"dataframe\">\n  <thead>\n    <tr style=\"text-align: right;\">\n      <th></th>\n      <th>duration</th>\n      <th>days_left</th>\n      <th>departure_time_encoded</th>\n      <th>arrival_time_encoded</th>\n      <th>stops_encoded</th>\n      <th>class_encoded</th>\n    </tr>\n  </thead>\n  <tbody>\n    <tr>\n      <th>136430</th>\n      <td>11.42</td>\n      <td>38</td>\n      <td>5</td>\n      <td>1</td>\n      <td>2</td>\n      <td>1</td>\n    </tr>\n    <tr>\n      <th>244582</th>\n      <td>15.75</td>\n      <td>33</td>\n      <td>1</td>\n      <td>5</td>\n      <td>2</td>\n      <td>2</td>\n    </tr>\n    <tr>\n      <th>154619</th>\n      <td>6.25</td>\n      <td>12</td>\n      <td>2</td>\n      <td>4</td>\n      <td>2</td>\n      <td>1</td>\n    </tr>\n    <tr>\n      <th>91350</th>\n      <td>16.25</td>\n      <td>42</td>\n      <td>3</td>\n      <td>1</td>\n      <td>2</td>\n      <td>1</td>\n    </tr>\n    <tr>\n      <th>199745</th>\n      <td>5.58</td>\n      <td>2</td>\n      <td>3</td>\n      <td>4</td>\n      <td>2</td>\n      <td>2</td>\n    </tr>\n    <tr>\n      <th>...</th>\n      <td>...</td>\n      <td>...</td>\n      <td>...</td>\n      <td>...</td>\n      <td>...</td>\n      <td>...</td>\n    </tr>\n    <tr>\n      <th>143312</th>\n      <td>26.58</td>\n      <td>7</td>\n      <td>5</td>\n      <td>5</td>\n      <td>2</td>\n      <td>1</td>\n    </tr>\n    <tr>\n      <th>47289</th>\n      <td>27.33</td>\n      <td>48</td>\n      <td>2</td>\n      <td>3</td>\n      <td>2</td>\n      <td>1</td>\n    </tr>\n    <tr>\n      <th>206847</th>\n      <td>23.08</td>\n      <td>48</td>\n      <td>4</td>\n      <td>4</td>\n      <td>2</td>\n      <td>2</td>\n    </tr>\n    <tr>\n      <th>104273</th>\n      <td>11.42</td>\n      <td>5</td>\n      <td>2</td>\n      <td>4</td>\n      <td>2</td>\n      <td>1</td>\n    </tr>\n    <tr>\n      <th>14187</th>\n      <td>6.92</td>\n      <td>29</td>\n      <td>3</td>\n      <td>5</td>\n      <td>2</td>\n      <td>1</td>\n    </tr>\n  </tbody>\n</table>\n<p>216110 rows × 6 columns</p>\n</div>"
     },
     "execution_count": 172,
     "metadata": {},
     "output_type": "execute_result"
    }
   ],
   "source": [
    "x_train"
   ],
   "metadata": {
    "collapsed": false,
    "pycharm": {
     "name": "#%%\n"
    }
   }
  },
  {
   "cell_type": "code",
   "execution_count": 173,
   "metadata": {
    "pycharm": {
     "name": "#%%\n"
    }
   },
   "outputs": [],
   "source": [
    "#Feature Scaling\n",
    "from sklearn.preprocessing import MinMaxScaler\n",
    "\n",
    "scaler = MinMaxScaler()\n",
    "x_train = pd.DataFrame(scaler.fit_transform(x_train), columns=x_train.columns, index=x_train.index)\n",
    "x_test = pd.DataFrame(scaler.fit_transform(x_test), columns=x_test.columns, index=x_test.index)"
   ]
  },
  {
   "cell_type": "code",
   "execution_count": 174,
   "metadata": {
    "pycharm": {
     "name": "#%%\n"
    }
   },
   "outputs": [],
   "source": [
    "from sklearn.metrics import mean_squared_error , r2_score\n",
    "import time\n",
    "\n",
    "class Regression:\n",
    "    def __init__(self):\n",
    "        self.mse_g = None\n",
    "        self.r2_g = None\n",
    "        self.weight = None\n",
    "\n",
    "    def fit(self, x:pd.DataFrame, y:pd.DataFrame, epoch:int, learning_rate: int):\n",
    "        m = len(x)\n",
    "        if x.iloc[0, 0] != 1:\n",
    "            x.insert(0, 'bias', 1)\n",
    "\n",
    "        self.mse_g = np.ones(epoch)\n",
    "        self.r2_g = np.ones(epoch)\n",
    "        self.weight = np.ones(len(x_train.columns))\n",
    "\n",
    "        start_time = time.time()\n",
    "        for i in range(epoch):\n",
    "            gradient = 2/m * x.T.dot(self.predict(x) - y)\n",
    "            self.weight = self.weight - learning_rate * gradient\n",
    "            self.mse_g[i] = mean_squared_error(y, self.predict(x))\n",
    "            self.r2_g[i] = r2_score(y, self.predict(x))\n",
    "        print (\"My program took\", time.time() - start_time, \"to run\")\n",
    "\n",
    "    def predict(self, df:pd.DataFrame):\n",
    "        if df.iloc[0, 0] != 1:\n",
    "            df.insert(0, 'bias', 1)\n",
    "        return np.dot(df, self.weight)"
   ]
  },
  {
   "cell_type": "code",
   "execution_count": 188,
   "metadata": {
    "pycharm": {
     "name": "#%%\n"
    }
   },
   "outputs": [
    {
     "name": "stdout",
     "output_type": "stream",
     "text": [
      "My program took 1.6511385440826416 to run\n"
     ]
    },
    {
     "data": {
      "text/plain": "bias                       5182.139065\nduration                   4086.485583\ndays_left                 -2790.163363\ndeparture_time_encoded      791.415311\narrival_time_encoded       1674.982908\nstops_encoded              5483.494595\nclass_encoded             40584.174325\ndtype: float64"
     },
     "execution_count": 188,
     "metadata": {},
     "output_type": "execute_result"
    }
   ],
   "source": [
    "reg = Regression()\n",
    "\n",
    "epochs = 200\n",
    "reg.fit(x_train, y_train, epochs, 0.1)\n",
    "reg.weight"
   ]
  },
  {
   "cell_type": "code",
   "execution_count": 189,
   "metadata": {
    "pycharm": {
     "name": "#%%\n"
    }
   },
   "outputs": [
    {
     "data": {
      "text/plain": "<Figure size 432x288 with 1 Axes>",
      "image/png": "[encoded data removed]"
     },
     "metadata": {
      "needs_background": "light"
     },
     "output_type": "display_data"
    }
   ],
   "source": [
    "#mse plot\n",
    "import matplotlib.pyplot as plt\n",
    "\n",
    "plt.plot(range(epochs), reg.mse_g, 'g', label='mse')\n",
    "plt.title('Mean Square Error Evolution')\n",
    "plt.xlabel('Epochs')\n",
    "plt.ylabel('mse')\n",
    "plt.legend()\n",
    "plt.show()"
   ]
  },
  {
   "cell_type": "code",
   "execution_count": 190,
   "metadata": {
    "pycharm": {
     "name": "#%%\n"
    }
   },
   "outputs": [
    {
     "data": {
      "text/plain": "<Figure size 432x288 with 1 Axes>",
      "image/png": "[encoded data removed]"
     },
     "metadata": {
      "needs_background": "light"
     },
     "output_type": "display_data"
    }
   ],
   "source": [
    "#R2 plot\n",
    "plt.plot(range(epochs), reg.r2_g, 'g', label='R2')\n",
    "plt.title('R2 Score Evolution')\n",
    "plt.xlabel('Epochs')\n",
    "plt.ylabel('R2')\n",
    "plt.legend()\n",
    "plt.show()"
   ]
  },
  {
   "cell_type": "code",
   "execution_count": 191,
   "outputs": [
    {
     "data": {
      "text/plain": "             Value\nMAE   5.258201e+03\nMSE   6.014657e+07\nRMSE  7.755422e+03\nR2    8.840335e-01",
      "text/html": "<div>\n<style scoped>\n    .dataframe tbody tr th:only-of-type {\n        vertical-align: middle;\n    }\n\n    .dataframe tbody tr th {\n        vertical-align: top;\n    }\n\n    .dataframe thead th {\n        text-align: right;\n    }\n</style>\n<table border=\"1\" class=\"dataframe\">\n  <thead>\n    <tr style=\"text-align: right;\">\n      <th></th>\n      <th>Value</th>\n    </tr>\n  </thead>\n  <tbody>\n    <tr>\n      <th>MAE</th>\n      <td>5.258201e+03</td>\n    </tr>\n    <tr>\n      <th>MSE</th>\n      <td>6.014657e+07</td>\n    </tr>\n    <tr>\n      <th>RMSE</th>\n      <td>7.755422e+03</td>\n    </tr>\n    <tr>\n      <th>R2</th>\n      <td>8.840335e-01</td>\n    </tr>\n  </tbody>\n</table>\n</div>"
     },
     "execution_count": 191,
     "metadata": {},
     "output_type": "execute_result"
    }
   ],
   "source": [
    "#Evaluating Model\n",
    "from sklearn.metrics import mean_absolute_error, mean_squared_error\n",
    "y_pred_test = reg.predict(x_test)\n",
    "\n",
    "mae_test = mean_absolute_error(y_test, y_pred_test)\n",
    "mse_test = mean_squared_error(y_test, y_pred_test)\n",
    "rmse_test = np.sqrt(mse_test)\n",
    "r2_test = r2_score(y_test, y_pred_test)\n",
    "\n",
    "ev_tabel = pd.DataFrame({'Value': [mae_test, mse_test, rmse_test, r2_test]}, index=['MAE', 'MSE', 'RMSE', 'R2'])\n",
    "ev_tabel"
   ],
   "metadata": {
    "collapsed": false,
    "pycharm": {
     "name": "#%%\n"
    }
   }
  },
  {
   "cell_type": "code",
   "execution_count": null,
   "outputs": [],
   "source": [],
   "metadata": {
    "collapsed": false,
    "pycharm": {
     "name": "#%%\n"
    }
   }
  }
 ],
 "metadata": {
  "kernelspec": {
   "display_name": "Python 3",
   "language": "python",
   "name": "python3"
  },
  "language_info": {
   "codemirror_mode": {
    "name": "ipython",
    "version": 3
   },
   "file_extension": ".py",
   "mimetype": "text/x-python",
   "name": "python",
   "nbconvert_exporter": "python",
   "pygments_lexer": "ipython3",
   "version": "3.11.1"
  }
 },
 "nbformat": 4,
 "nbformat_minor": 2
}